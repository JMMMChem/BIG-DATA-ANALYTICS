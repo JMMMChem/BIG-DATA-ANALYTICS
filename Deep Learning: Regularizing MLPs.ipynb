{
  "nbformat": 4,
  "nbformat_minor": 0,
  "metadata": {
    "kernelspec": {
      "display_name": "Python 3",
      "language": "python",
      "name": "python3"
    },
    "language_info": {
      "codemirror_mode": {
        "name": "ipython",
        "version": 3
      },
      "file_extension": ".py",
      "mimetype": "text/x-python",
      "name": "python",
      "nbconvert_exporter": "python",
      "pygments_lexer": "ipython3",
      "version": "3.7.3"
    },
    "colab": {
      "name": "JoseMaria_Lab_2_Part_2.ipynb",
      "provenance": [],
      "collapsed_sections": []
    },
    "widgets": {
      "application/vnd.jupyter.widget-state+json": {
        "a1e1310eac214243b34d03e7556d9479": {
          "model_module": "@jupyter-widgets/controls",
          "model_name": "HBoxModel",
          "state": {
            "_view_name": "HBoxView",
            "_dom_classes": [],
            "_model_name": "HBoxModel",
            "_view_module": "@jupyter-widgets/controls",
            "_model_module_version": "1.5.0",
            "_view_count": null,
            "_view_module_version": "1.5.0",
            "box_style": "",
            "layout": "IPY_MODEL_893ac7b23d0e43928a1ac74a70cbdf7e",
            "_model_module": "@jupyter-widgets/controls",
            "children": [
              "IPY_MODEL_6fa9586d2d4244e8aca21fb7ea0e7927",
              "IPY_MODEL_ca5463ec429e4119a52b0e67fe9b6cc3"
            ]
          }
        },
        "893ac7b23d0e43928a1ac74a70cbdf7e": {
          "model_module": "@jupyter-widgets/base",
          "model_name": "LayoutModel",
          "state": {
            "_view_name": "LayoutView",
            "grid_template_rows": null,
            "right": null,
            "justify_content": null,
            "_view_module": "@jupyter-widgets/base",
            "overflow": null,
            "_model_module_version": "1.2.0",
            "_view_count": null,
            "flex_flow": null,
            "width": null,
            "min_width": null,
            "border": null,
            "align_items": null,
            "bottom": null,
            "_model_module": "@jupyter-widgets/base",
            "top": null,
            "grid_column": null,
            "overflow_y": null,
            "overflow_x": null,
            "grid_auto_flow": null,
            "grid_area": null,
            "grid_template_columns": null,
            "flex": null,
            "_model_name": "LayoutModel",
            "justify_items": null,
            "grid_row": null,
            "max_height": null,
            "align_content": null,
            "visibility": null,
            "align_self": null,
            "height": null,
            "min_height": null,
            "padding": null,
            "grid_auto_rows": null,
            "grid_gap": null,
            "max_width": null,
            "order": null,
            "_view_module_version": "1.2.0",
            "grid_template_areas": null,
            "object_position": null,
            "object_fit": null,
            "grid_auto_columns": null,
            "margin": null,
            "display": null,
            "left": null
          }
        },
        "6fa9586d2d4244e8aca21fb7ea0e7927": {
          "model_module": "@jupyter-widgets/controls",
          "model_name": "FloatProgressModel",
          "state": {
            "_view_name": "ProgressView",
            "style": "IPY_MODEL_84896b3b0ae9449ab574565185122413",
            "_dom_classes": [],
            "description": "",
            "_model_name": "FloatProgressModel",
            "bar_style": "success",
            "max": 1,
            "_view_module": "@jupyter-widgets/controls",
            "_model_module_version": "1.5.0",
            "value": 1,
            "_view_count": null,
            "_view_module_version": "1.5.0",
            "orientation": "horizontal",
            "min": 0,
            "description_tooltip": null,
            "_model_module": "@jupyter-widgets/controls",
            "layout": "IPY_MODEL_b371f1958a9644ccad6014e9666d4a4b"
          }
        },
        "ca5463ec429e4119a52b0e67fe9b6cc3": {
          "model_module": "@jupyter-widgets/controls",
          "model_name": "HTMLModel",
          "state": {
            "_view_name": "HTMLView",
            "style": "IPY_MODEL_8af1177cba8e400ba9532de5a1d652d6",
            "_dom_classes": [],
            "description": "",
            "_model_name": "HTMLModel",
            "placeholder": "​",
            "_view_module": "@jupyter-widgets/controls",
            "_model_module_version": "1.5.0",
            "value": " 26427392/? [00:04&lt;00:00, 5456220.76it/s]",
            "_view_count": null,
            "_view_module_version": "1.5.0",
            "description_tooltip": null,
            "_model_module": "@jupyter-widgets/controls",
            "layout": "IPY_MODEL_fb42be8eafe443998cfe741b7e1105f6"
          }
        },
        "84896b3b0ae9449ab574565185122413": {
          "model_module": "@jupyter-widgets/controls",
          "model_name": "ProgressStyleModel",
          "state": {
            "_view_name": "StyleView",
            "_model_name": "ProgressStyleModel",
            "description_width": "initial",
            "_view_module": "@jupyter-widgets/base",
            "_model_module_version": "1.5.0",
            "_view_count": null,
            "_view_module_version": "1.2.0",
            "bar_color": null,
            "_model_module": "@jupyter-widgets/controls"
          }
        },
        "b371f1958a9644ccad6014e9666d4a4b": {
          "model_module": "@jupyter-widgets/base",
          "model_name": "LayoutModel",
          "state": {
            "_view_name": "LayoutView",
            "grid_template_rows": null,
            "right": null,
            "justify_content": null,
            "_view_module": "@jupyter-widgets/base",
            "overflow": null,
            "_model_module_version": "1.2.0",
            "_view_count": null,
            "flex_flow": null,
            "width": null,
            "min_width": null,
            "border": null,
            "align_items": null,
            "bottom": null,
            "_model_module": "@jupyter-widgets/base",
            "top": null,
            "grid_column": null,
            "overflow_y": null,
            "overflow_x": null,
            "grid_auto_flow": null,
            "grid_area": null,
            "grid_template_columns": null,
            "flex": null,
            "_model_name": "LayoutModel",
            "justify_items": null,
            "grid_row": null,
            "max_height": null,
            "align_content": null,
            "visibility": null,
            "align_self": null,
            "height": null,
            "min_height": null,
            "padding": null,
            "grid_auto_rows": null,
            "grid_gap": null,
            "max_width": null,
            "order": null,
            "_view_module_version": "1.2.0",
            "grid_template_areas": null,
            "object_position": null,
            "object_fit": null,
            "grid_auto_columns": null,
            "margin": null,
            "display": null,
            "left": null
          }
        },
        "8af1177cba8e400ba9532de5a1d652d6": {
          "model_module": "@jupyter-widgets/controls",
          "model_name": "DescriptionStyleModel",
          "state": {
            "_view_name": "StyleView",
            "_model_name": "DescriptionStyleModel",
            "description_width": "",
            "_view_module": "@jupyter-widgets/base",
            "_model_module_version": "1.5.0",
            "_view_count": null,
            "_view_module_version": "1.2.0",
            "_model_module": "@jupyter-widgets/controls"
          }
        },
        "fb42be8eafe443998cfe741b7e1105f6": {
          "model_module": "@jupyter-widgets/base",
          "model_name": "LayoutModel",
          "state": {
            "_view_name": "LayoutView",
            "grid_template_rows": null,
            "right": null,
            "justify_content": null,
            "_view_module": "@jupyter-widgets/base",
            "overflow": null,
            "_model_module_version": "1.2.0",
            "_view_count": null,
            "flex_flow": null,
            "width": null,
            "min_width": null,
            "border": null,
            "align_items": null,
            "bottom": null,
            "_model_module": "@jupyter-widgets/base",
            "top": null,
            "grid_column": null,
            "overflow_y": null,
            "overflow_x": null,
            "grid_auto_flow": null,
            "grid_area": null,
            "grid_template_columns": null,
            "flex": null,
            "_model_name": "LayoutModel",
            "justify_items": null,
            "grid_row": null,
            "max_height": null,
            "align_content": null,
            "visibility": null,
            "align_self": null,
            "height": null,
            "min_height": null,
            "padding": null,
            "grid_auto_rows": null,
            "grid_gap": null,
            "max_width": null,
            "order": null,
            "_view_module_version": "1.2.0",
            "grid_template_areas": null,
            "object_position": null,
            "object_fit": null,
            "grid_auto_columns": null,
            "margin": null,
            "display": null,
            "left": null
          }
        },
        "1fb4b6e22e5c4c6ba2770263a2cf8592": {
          "model_module": "@jupyter-widgets/controls",
          "model_name": "HBoxModel",
          "state": {
            "_view_name": "HBoxView",
            "_dom_classes": [],
            "_model_name": "HBoxModel",
            "_view_module": "@jupyter-widgets/controls",
            "_model_module_version": "1.5.0",
            "_view_count": null,
            "_view_module_version": "1.5.0",
            "box_style": "",
            "layout": "IPY_MODEL_8ed4fb80429645d9ab1f1d3f6327e8b6",
            "_model_module": "@jupyter-widgets/controls",
            "children": [
              "IPY_MODEL_1e1e0f5224af48ce8ddabae49e6145f3",
              "IPY_MODEL_46fe4b4758924b34bd775924f4d2173f"
            ]
          }
        },
        "8ed4fb80429645d9ab1f1d3f6327e8b6": {
          "model_module": "@jupyter-widgets/base",
          "model_name": "LayoutModel",
          "state": {
            "_view_name": "LayoutView",
            "grid_template_rows": null,
            "right": null,
            "justify_content": null,
            "_view_module": "@jupyter-widgets/base",
            "overflow": null,
            "_model_module_version": "1.2.0",
            "_view_count": null,
            "flex_flow": null,
            "width": null,
            "min_width": null,
            "border": null,
            "align_items": null,
            "bottom": null,
            "_model_module": "@jupyter-widgets/base",
            "top": null,
            "grid_column": null,
            "overflow_y": null,
            "overflow_x": null,
            "grid_auto_flow": null,
            "grid_area": null,
            "grid_template_columns": null,
            "flex": null,
            "_model_name": "LayoutModel",
            "justify_items": null,
            "grid_row": null,
            "max_height": null,
            "align_content": null,
            "visibility": null,
            "align_self": null,
            "height": null,
            "min_height": null,
            "padding": null,
            "grid_auto_rows": null,
            "grid_gap": null,
            "max_width": null,
            "order": null,
            "_view_module_version": "1.2.0",
            "grid_template_areas": null,
            "object_position": null,
            "object_fit": null,
            "grid_auto_columns": null,
            "margin": null,
            "display": null,
            "left": null
          }
        },
        "1e1e0f5224af48ce8ddabae49e6145f3": {
          "model_module": "@jupyter-widgets/controls",
          "model_name": "FloatProgressModel",
          "state": {
            "_view_name": "ProgressView",
            "style": "IPY_MODEL_a3a7c4b4490f4fb9849e44c75bcd7836",
            "_dom_classes": [],
            "description": "",
            "_model_name": "FloatProgressModel",
            "bar_style": "success",
            "max": 1,
            "_view_module": "@jupyter-widgets/controls",
            "_model_module_version": "1.5.0",
            "value": 1,
            "_view_count": null,
            "_view_module_version": "1.5.0",
            "orientation": "horizontal",
            "min": 0,
            "description_tooltip": null,
            "_model_module": "@jupyter-widgets/controls",
            "layout": "IPY_MODEL_8f4dec69df5a4e54815ba8941e220d76"
          }
        },
        "46fe4b4758924b34bd775924f4d2173f": {
          "model_module": "@jupyter-widgets/controls",
          "model_name": "HTMLModel",
          "state": {
            "_view_name": "HTMLView",
            "style": "IPY_MODEL_1832307664b84f29b9430cd05d473b5b",
            "_dom_classes": [],
            "description": "",
            "_model_name": "HTMLModel",
            "placeholder": "​",
            "_view_module": "@jupyter-widgets/controls",
            "_model_module_version": "1.5.0",
            "value": " 32768/? [00:01&lt;00:00, 16966.45it/s]",
            "_view_count": null,
            "_view_module_version": "1.5.0",
            "description_tooltip": null,
            "_model_module": "@jupyter-widgets/controls",
            "layout": "IPY_MODEL_35353a25676f43eba6d84dee330a424d"
          }
        },
        "a3a7c4b4490f4fb9849e44c75bcd7836": {
          "model_module": "@jupyter-widgets/controls",
          "model_name": "ProgressStyleModel",
          "state": {
            "_view_name": "StyleView",
            "_model_name": "ProgressStyleModel",
            "description_width": "initial",
            "_view_module": "@jupyter-widgets/base",
            "_model_module_version": "1.5.0",
            "_view_count": null,
            "_view_module_version": "1.2.0",
            "bar_color": null,
            "_model_module": "@jupyter-widgets/controls"
          }
        },
        "8f4dec69df5a4e54815ba8941e220d76": {
          "model_module": "@jupyter-widgets/base",
          "model_name": "LayoutModel",
          "state": {
            "_view_name": "LayoutView",
            "grid_template_rows": null,
            "right": null,
            "justify_content": null,
            "_view_module": "@jupyter-widgets/base",
            "overflow": null,
            "_model_module_version": "1.2.0",
            "_view_count": null,
            "flex_flow": null,
            "width": null,
            "min_width": null,
            "border": null,
            "align_items": null,
            "bottom": null,
            "_model_module": "@jupyter-widgets/base",
            "top": null,
            "grid_column": null,
            "overflow_y": null,
            "overflow_x": null,
            "grid_auto_flow": null,
            "grid_area": null,
            "grid_template_columns": null,
            "flex": null,
            "_model_name": "LayoutModel",
            "justify_items": null,
            "grid_row": null,
            "max_height": null,
            "align_content": null,
            "visibility": null,
            "align_self": null,
            "height": null,
            "min_height": null,
            "padding": null,
            "grid_auto_rows": null,
            "grid_gap": null,
            "max_width": null,
            "order": null,
            "_view_module_version": "1.2.0",
            "grid_template_areas": null,
            "object_position": null,
            "object_fit": null,
            "grid_auto_columns": null,
            "margin": null,
            "display": null,
            "left": null
          }
        },
        "1832307664b84f29b9430cd05d473b5b": {
          "model_module": "@jupyter-widgets/controls",
          "model_name": "DescriptionStyleModel",
          "state": {
            "_view_name": "StyleView",
            "_model_name": "DescriptionStyleModel",
            "description_width": "",
            "_view_module": "@jupyter-widgets/base",
            "_model_module_version": "1.5.0",
            "_view_count": null,
            "_view_module_version": "1.2.0",
            "_model_module": "@jupyter-widgets/controls"
          }
        },
        "35353a25676f43eba6d84dee330a424d": {
          "model_module": "@jupyter-widgets/base",
          "model_name": "LayoutModel",
          "state": {
            "_view_name": "LayoutView",
            "grid_template_rows": null,
            "right": null,
            "justify_content": null,
            "_view_module": "@jupyter-widgets/base",
            "overflow": null,
            "_model_module_version": "1.2.0",
            "_view_count": null,
            "flex_flow": null,
            "width": null,
            "min_width": null,
            "border": null,
            "align_items": null,
            "bottom": null,
            "_model_module": "@jupyter-widgets/base",
            "top": null,
            "grid_column": null,
            "overflow_y": null,
            "overflow_x": null,
            "grid_auto_flow": null,
            "grid_area": null,
            "grid_template_columns": null,
            "flex": null,
            "_model_name": "LayoutModel",
            "justify_items": null,
            "grid_row": null,
            "max_height": null,
            "align_content": null,
            "visibility": null,
            "align_self": null,
            "height": null,
            "min_height": null,
            "padding": null,
            "grid_auto_rows": null,
            "grid_gap": null,
            "max_width": null,
            "order": null,
            "_view_module_version": "1.2.0",
            "grid_template_areas": null,
            "object_position": null,
            "object_fit": null,
            "grid_auto_columns": null,
            "margin": null,
            "display": null,
            "left": null
          }
        },
        "6ee76e52e88b45c1932849dc478f01e3": {
          "model_module": "@jupyter-widgets/controls",
          "model_name": "HBoxModel",
          "state": {
            "_view_name": "HBoxView",
            "_dom_classes": [],
            "_model_name": "HBoxModel",
            "_view_module": "@jupyter-widgets/controls",
            "_model_module_version": "1.5.0",
            "_view_count": null,
            "_view_module_version": "1.5.0",
            "box_style": "",
            "layout": "IPY_MODEL_758b7c7e7ebc420dbb6e1199777b4e1f",
            "_model_module": "@jupyter-widgets/controls",
            "children": [
              "IPY_MODEL_4ff4c40b2a1e4127b77f000b62835887",
              "IPY_MODEL_7f5941fbf2384228b2a6df3b7f6d010e"
            ]
          }
        },
        "758b7c7e7ebc420dbb6e1199777b4e1f": {
          "model_module": "@jupyter-widgets/base",
          "model_name": "LayoutModel",
          "state": {
            "_view_name": "LayoutView",
            "grid_template_rows": null,
            "right": null,
            "justify_content": null,
            "_view_module": "@jupyter-widgets/base",
            "overflow": null,
            "_model_module_version": "1.2.0",
            "_view_count": null,
            "flex_flow": null,
            "width": null,
            "min_width": null,
            "border": null,
            "align_items": null,
            "bottom": null,
            "_model_module": "@jupyter-widgets/base",
            "top": null,
            "grid_column": null,
            "overflow_y": null,
            "overflow_x": null,
            "grid_auto_flow": null,
            "grid_area": null,
            "grid_template_columns": null,
            "flex": null,
            "_model_name": "LayoutModel",
            "justify_items": null,
            "grid_row": null,
            "max_height": null,
            "align_content": null,
            "visibility": null,
            "align_self": null,
            "height": null,
            "min_height": null,
            "padding": null,
            "grid_auto_rows": null,
            "grid_gap": null,
            "max_width": null,
            "order": null,
            "_view_module_version": "1.2.0",
            "grid_template_areas": null,
            "object_position": null,
            "object_fit": null,
            "grid_auto_columns": null,
            "margin": null,
            "display": null,
            "left": null
          }
        },
        "4ff4c40b2a1e4127b77f000b62835887": {
          "model_module": "@jupyter-widgets/controls",
          "model_name": "FloatProgressModel",
          "state": {
            "_view_name": "ProgressView",
            "style": "IPY_MODEL_30d786ca97b84bee8fd78f82036c184a",
            "_dom_classes": [],
            "description": "",
            "_model_name": "FloatProgressModel",
            "bar_style": "success",
            "max": 1,
            "_view_module": "@jupyter-widgets/controls",
            "_model_module_version": "1.5.0",
            "value": 1,
            "_view_count": null,
            "_view_module_version": "1.5.0",
            "orientation": "horizontal",
            "min": 0,
            "description_tooltip": null,
            "_model_module": "@jupyter-widgets/controls",
            "layout": "IPY_MODEL_1fd007d2b257450aba552eb3150d5bd9"
          }
        },
        "7f5941fbf2384228b2a6df3b7f6d010e": {
          "model_module": "@jupyter-widgets/controls",
          "model_name": "HTMLModel",
          "state": {
            "_view_name": "HTMLView",
            "style": "IPY_MODEL_cf3dfeab5c21459c89585937689aef28",
            "_dom_classes": [],
            "description": "",
            "_model_name": "HTMLModel",
            "placeholder": "​",
            "_view_module": "@jupyter-widgets/controls",
            "_model_module_version": "1.5.0",
            "value": " 4423680/? [00:01&lt;00:00, 2831676.72it/s]",
            "_view_count": null,
            "_view_module_version": "1.5.0",
            "description_tooltip": null,
            "_model_module": "@jupyter-widgets/controls",
            "layout": "IPY_MODEL_fd300256a564428a9ffb62df62e2d9af"
          }
        },
        "30d786ca97b84bee8fd78f82036c184a": {
          "model_module": "@jupyter-widgets/controls",
          "model_name": "ProgressStyleModel",
          "state": {
            "_view_name": "StyleView",
            "_model_name": "ProgressStyleModel",
            "description_width": "initial",
            "_view_module": "@jupyter-widgets/base",
            "_model_module_version": "1.5.0",
            "_view_count": null,
            "_view_module_version": "1.2.0",
            "bar_color": null,
            "_model_module": "@jupyter-widgets/controls"
          }
        },
        "1fd007d2b257450aba552eb3150d5bd9": {
          "model_module": "@jupyter-widgets/base",
          "model_name": "LayoutModel",
          "state": {
            "_view_name": "LayoutView",
            "grid_template_rows": null,
            "right": null,
            "justify_content": null,
            "_view_module": "@jupyter-widgets/base",
            "overflow": null,
            "_model_module_version": "1.2.0",
            "_view_count": null,
            "flex_flow": null,
            "width": null,
            "min_width": null,
            "border": null,
            "align_items": null,
            "bottom": null,
            "_model_module": "@jupyter-widgets/base",
            "top": null,
            "grid_column": null,
            "overflow_y": null,
            "overflow_x": null,
            "grid_auto_flow": null,
            "grid_area": null,
            "grid_template_columns": null,
            "flex": null,
            "_model_name": "LayoutModel",
            "justify_items": null,
            "grid_row": null,
            "max_height": null,
            "align_content": null,
            "visibility": null,
            "align_self": null,
            "height": null,
            "min_height": null,
            "padding": null,
            "grid_auto_rows": null,
            "grid_gap": null,
            "max_width": null,
            "order": null,
            "_view_module_version": "1.2.0",
            "grid_template_areas": null,
            "object_position": null,
            "object_fit": null,
            "grid_auto_columns": null,
            "margin": null,
            "display": null,
            "left": null
          }
        },
        "cf3dfeab5c21459c89585937689aef28": {
          "model_module": "@jupyter-widgets/controls",
          "model_name": "DescriptionStyleModel",
          "state": {
            "_view_name": "StyleView",
            "_model_name": "DescriptionStyleModel",
            "description_width": "",
            "_view_module": "@jupyter-widgets/base",
            "_model_module_version": "1.5.0",
            "_view_count": null,
            "_view_module_version": "1.2.0",
            "_model_module": "@jupyter-widgets/controls"
          }
        },
        "fd300256a564428a9ffb62df62e2d9af": {
          "model_module": "@jupyter-widgets/base",
          "model_name": "LayoutModel",
          "state": {
            "_view_name": "LayoutView",
            "grid_template_rows": null,
            "right": null,
            "justify_content": null,
            "_view_module": "@jupyter-widgets/base",
            "overflow": null,
            "_model_module_version": "1.2.0",
            "_view_count": null,
            "flex_flow": null,
            "width": null,
            "min_width": null,
            "border": null,
            "align_items": null,
            "bottom": null,
            "_model_module": "@jupyter-widgets/base",
            "top": null,
            "grid_column": null,
            "overflow_y": null,
            "overflow_x": null,
            "grid_auto_flow": null,
            "grid_area": null,
            "grid_template_columns": null,
            "flex": null,
            "_model_name": "LayoutModel",
            "justify_items": null,
            "grid_row": null,
            "max_height": null,
            "align_content": null,
            "visibility": null,
            "align_self": null,
            "height": null,
            "min_height": null,
            "padding": null,
            "grid_auto_rows": null,
            "grid_gap": null,
            "max_width": null,
            "order": null,
            "_view_module_version": "1.2.0",
            "grid_template_areas": null,
            "object_position": null,
            "object_fit": null,
            "grid_auto_columns": null,
            "margin": null,
            "display": null,
            "left": null
          }
        },
        "69ec34ca0be44fc7bb14719787b00e2c": {
          "model_module": "@jupyter-widgets/controls",
          "model_name": "HBoxModel",
          "state": {
            "_view_name": "HBoxView",
            "_dom_classes": [],
            "_model_name": "HBoxModel",
            "_view_module": "@jupyter-widgets/controls",
            "_model_module_version": "1.5.0",
            "_view_count": null,
            "_view_module_version": "1.5.0",
            "box_style": "",
            "layout": "IPY_MODEL_7ce90b5320a94ce8a4afc296951a7ef9",
            "_model_module": "@jupyter-widgets/controls",
            "children": [
              "IPY_MODEL_3eb6710242e048d095d9d786bfb944d0",
              "IPY_MODEL_252520a1e2c4465585fa9fe09ce9471f"
            ]
          }
        },
        "7ce90b5320a94ce8a4afc296951a7ef9": {
          "model_module": "@jupyter-widgets/base",
          "model_name": "LayoutModel",
          "state": {
            "_view_name": "LayoutView",
            "grid_template_rows": null,
            "right": null,
            "justify_content": null,
            "_view_module": "@jupyter-widgets/base",
            "overflow": null,
            "_model_module_version": "1.2.0",
            "_view_count": null,
            "flex_flow": null,
            "width": null,
            "min_width": null,
            "border": null,
            "align_items": null,
            "bottom": null,
            "_model_module": "@jupyter-widgets/base",
            "top": null,
            "grid_column": null,
            "overflow_y": null,
            "overflow_x": null,
            "grid_auto_flow": null,
            "grid_area": null,
            "grid_template_columns": null,
            "flex": null,
            "_model_name": "LayoutModel",
            "justify_items": null,
            "grid_row": null,
            "max_height": null,
            "align_content": null,
            "visibility": null,
            "align_self": null,
            "height": null,
            "min_height": null,
            "padding": null,
            "grid_auto_rows": null,
            "grid_gap": null,
            "max_width": null,
            "order": null,
            "_view_module_version": "1.2.0",
            "grid_template_areas": null,
            "object_position": null,
            "object_fit": null,
            "grid_auto_columns": null,
            "margin": null,
            "display": null,
            "left": null
          }
        },
        "3eb6710242e048d095d9d786bfb944d0": {
          "model_module": "@jupyter-widgets/controls",
          "model_name": "FloatProgressModel",
          "state": {
            "_view_name": "ProgressView",
            "style": "IPY_MODEL_096b2ce4510c49e594a506067531112c",
            "_dom_classes": [],
            "description": "",
            "_model_name": "FloatProgressModel",
            "bar_style": "success",
            "max": 1,
            "_view_module": "@jupyter-widgets/controls",
            "_model_module_version": "1.5.0",
            "value": 1,
            "_view_count": null,
            "_view_module_version": "1.5.0",
            "orientation": "horizontal",
            "min": 0,
            "description_tooltip": null,
            "_model_module": "@jupyter-widgets/controls",
            "layout": "IPY_MODEL_38a0fd54fa34405299005bebbeafb4b9"
          }
        },
        "252520a1e2c4465585fa9fe09ce9471f": {
          "model_module": "@jupyter-widgets/controls",
          "model_name": "HTMLModel",
          "state": {
            "_view_name": "HTMLView",
            "style": "IPY_MODEL_9c54b334e10947289996604374baaaee",
            "_dom_classes": [],
            "description": "",
            "_model_name": "HTMLModel",
            "placeholder": "​",
            "_view_module": "@jupyter-widgets/controls",
            "_model_module_version": "1.5.0",
            "value": " 8192/? [00:00&lt;00:00, 21882.59it/s]",
            "_view_count": null,
            "_view_module_version": "1.5.0",
            "description_tooltip": null,
            "_model_module": "@jupyter-widgets/controls",
            "layout": "IPY_MODEL_66dea9b0a5524832a8b26003453358f2"
          }
        },
        "096b2ce4510c49e594a506067531112c": {
          "model_module": "@jupyter-widgets/controls",
          "model_name": "ProgressStyleModel",
          "state": {
            "_view_name": "StyleView",
            "_model_name": "ProgressStyleModel",
            "description_width": "initial",
            "_view_module": "@jupyter-widgets/base",
            "_model_module_version": "1.5.0",
            "_view_count": null,
            "_view_module_version": "1.2.0",
            "bar_color": null,
            "_model_module": "@jupyter-widgets/controls"
          }
        },
        "38a0fd54fa34405299005bebbeafb4b9": {
          "model_module": "@jupyter-widgets/base",
          "model_name": "LayoutModel",
          "state": {
            "_view_name": "LayoutView",
            "grid_template_rows": null,
            "right": null,
            "justify_content": null,
            "_view_module": "@jupyter-widgets/base",
            "overflow": null,
            "_model_module_version": "1.2.0",
            "_view_count": null,
            "flex_flow": null,
            "width": null,
            "min_width": null,
            "border": null,
            "align_items": null,
            "bottom": null,
            "_model_module": "@jupyter-widgets/base",
            "top": null,
            "grid_column": null,
            "overflow_y": null,
            "overflow_x": null,
            "grid_auto_flow": null,
            "grid_area": null,
            "grid_template_columns": null,
            "flex": null,
            "_model_name": "LayoutModel",
            "justify_items": null,
            "grid_row": null,
            "max_height": null,
            "align_content": null,
            "visibility": null,
            "align_self": null,
            "height": null,
            "min_height": null,
            "padding": null,
            "grid_auto_rows": null,
            "grid_gap": null,
            "max_width": null,
            "order": null,
            "_view_module_version": "1.2.0",
            "grid_template_areas": null,
            "object_position": null,
            "object_fit": null,
            "grid_auto_columns": null,
            "margin": null,
            "display": null,
            "left": null
          }
        },
        "9c54b334e10947289996604374baaaee": {
          "model_module": "@jupyter-widgets/controls",
          "model_name": "DescriptionStyleModel",
          "state": {
            "_view_name": "StyleView",
            "_model_name": "DescriptionStyleModel",
            "description_width": "",
            "_view_module": "@jupyter-widgets/base",
            "_model_module_version": "1.5.0",
            "_view_count": null,
            "_view_module_version": "1.2.0",
            "_model_module": "@jupyter-widgets/controls"
          }
        },
        "66dea9b0a5524832a8b26003453358f2": {
          "model_module": "@jupyter-widgets/base",
          "model_name": "LayoutModel",
          "state": {
            "_view_name": "LayoutView",
            "grid_template_rows": null,
            "right": null,
            "justify_content": null,
            "_view_module": "@jupyter-widgets/base",
            "overflow": null,
            "_model_module_version": "1.2.0",
            "_view_count": null,
            "flex_flow": null,
            "width": null,
            "min_width": null,
            "border": null,
            "align_items": null,
            "bottom": null,
            "_model_module": "@jupyter-widgets/base",
            "top": null,
            "grid_column": null,
            "overflow_y": null,
            "overflow_x": null,
            "grid_auto_flow": null,
            "grid_area": null,
            "grid_template_columns": null,
            "flex": null,
            "_model_name": "LayoutModel",
            "justify_items": null,
            "grid_row": null,
            "max_height": null,
            "align_content": null,
            "visibility": null,
            "align_self": null,
            "height": null,
            "min_height": null,
            "padding": null,
            "grid_auto_rows": null,
            "grid_gap": null,
            "max_width": null,
            "order": null,
            "_view_module_version": "1.2.0",
            "grid_template_areas": null,
            "object_position": null,
            "object_fit": null,
            "grid_auto_columns": null,
            "margin": null,
            "display": null,
            "left": null
          }
        }
      }
    }
  },
  "cells": [
    {
      "cell_type": "markdown",
      "metadata": {
        "id": "vFPuvVCgt5Mj"
      },
      "source": [
        "# Lab 2 (Part 2): Regularizing MLPs\n",
        "\n",
        "José María Martínez Marín 100443343\n",
        "\n",
        "Azamat Ziiadinov 100460540\n",
        "\n",
        "\n",
        "------------------------------------------------------\n",
        "*Deep Learning. Master in Big Data Analytics*\n",
        "\n",
        "*Pablo M. Olmos pamartin@ing.uc3m.es*\n",
        "\n",
        "------------------------------------------------------\n",
        "\n",
        "\n",
        "In this second part of the lab, ou'll be using the [Fashion-MNIST dataset](https://github.com/zalandoresearch/fashion-mnist), a drop-in replacement for the MNIST dataset. MNIST is actually quite trivial with neural networks where you can easily achieve better than 97% accuracy. Fashion-MNIST is a set of 28x28 greyscale images of clothes. It's more complex than MNIST, so it's a better representation of the actual performance of your network, and a better representation of datasets you'll use in the real world. You can see a sample below."
      ]
    },
    {
      "cell_type": "code",
      "metadata": {
        "colab": {
          "base_uri": "https://localhost:8080/",
          "height": 219
        },
        "id": "-Yu-eG3tt5Ml",
        "outputId": "276b11ed-573f-4988-a869-6a76bc5057ab"
      },
      "source": [
        "from IPython.display import Image\n",
        "from IPython.core.display import HTML \n",
        "\n",
        "Image(url= \"https://miro.medium.com/max/3200/1*QQVbuP2SEasB0XAmvjW0AA.jpeg\", width=400, height=200)"
      ],
      "execution_count": null,
      "outputs": [
        {
          "output_type": "execute_result",
          "data": {
            "text/html": [
              "<img src=\"https://miro.medium.com/max/3200/1*QQVbuP2SEasB0XAmvjW0AA.jpeg\" width=\"400\" height=\"200\"/>"
            ],
            "text/plain": [
              "<IPython.core.display.Image object>"
            ]
          },
          "metadata": {
            "tags": []
          },
          "execution_count": 1
        }
      ]
    },
    {
      "cell_type": "markdown",
      "metadata": {
        "id": "bZ0rZ1MAt5Mm"
      },
      "source": [
        "Our goal is to build a neural network that can take one of these images and predict the digit in the image. Unlike the MNIST case, for this problem you will notice that the model **easily overfits**, so addressing this issue is an important problem here. To do so, we will experiment with early stopping, dropout, and L2 weight regularization.\n",
        "\n",
        "Note: a big part of the following material is a personal wrap-up of [Facebook's Deep Learning Course in Udacity](https://www.udacity.com/course/deep-learning-pytorch--ud188). So all credit goes for them!!"
      ]
    },
    {
      "cell_type": "code",
      "metadata": {
        "id": "UlsPXL2-t5Mm"
      },
      "source": [
        "%matplotlib inline\n",
        "%config InlineBackend.figure_format = 'retina'  #To get figures with high quality!\n",
        "\n",
        "import numpy as np\n",
        "import torch\n",
        "from torch import nn\n",
        "from torch import optim\n",
        "import matplotlib.pyplot as plt"
      ],
      "execution_count": null,
      "outputs": []
    },
    {
      "cell_type": "markdown",
      "metadata": {
        "id": "62aMa1Ewt5Mm"
      },
      "source": [
        "## Part I. Download FMNIST with `torchvision`\n",
        "\n",
        "The code below will download the MNIST dataset, then create training and test datasets for us. It is mostly the same code we used to download MNIST in the previous part of the Lab."
      ]
    },
    {
      "cell_type": "code",
      "metadata": {
        "id": "XTDJvuACt5Mn",
        "colab": {
          "base_uri": "https://localhost:8080/",
          "height": 417,
          "referenced_widgets": [
            "a1e1310eac214243b34d03e7556d9479",
            "893ac7b23d0e43928a1ac74a70cbdf7e",
            "6fa9586d2d4244e8aca21fb7ea0e7927",
            "ca5463ec429e4119a52b0e67fe9b6cc3",
            "84896b3b0ae9449ab574565185122413",
            "b371f1958a9644ccad6014e9666d4a4b",
            "8af1177cba8e400ba9532de5a1d652d6",
            "fb42be8eafe443998cfe741b7e1105f6",
            "1fb4b6e22e5c4c6ba2770263a2cf8592",
            "8ed4fb80429645d9ab1f1d3f6327e8b6",
            "1e1e0f5224af48ce8ddabae49e6145f3",
            "46fe4b4758924b34bd775924f4d2173f",
            "a3a7c4b4490f4fb9849e44c75bcd7836",
            "8f4dec69df5a4e54815ba8941e220d76",
            "1832307664b84f29b9430cd05d473b5b",
            "35353a25676f43eba6d84dee330a424d",
            "6ee76e52e88b45c1932849dc478f01e3",
            "758b7c7e7ebc420dbb6e1199777b4e1f",
            "4ff4c40b2a1e4127b77f000b62835887",
            "7f5941fbf2384228b2a6df3b7f6d010e",
            "30d786ca97b84bee8fd78f82036c184a",
            "1fd007d2b257450aba552eb3150d5bd9",
            "cf3dfeab5c21459c89585937689aef28",
            "fd300256a564428a9ffb62df62e2d9af",
            "69ec34ca0be44fc7bb14719787b00e2c",
            "7ce90b5320a94ce8a4afc296951a7ef9",
            "3eb6710242e048d095d9d786bfb944d0",
            "252520a1e2c4465585fa9fe09ce9471f",
            "096b2ce4510c49e594a506067531112c",
            "38a0fd54fa34405299005bebbeafb4b9",
            "9c54b334e10947289996604374baaaee",
            "66dea9b0a5524832a8b26003453358f2"
          ]
        },
        "outputId": "a9e7ea12-8ffe-4a2d-ab21-dfa62ae73ea8"
      },
      "source": [
        "import torch\n",
        "from torchvision import datasets, transforms\n",
        "\n",
        "# Define a transform to normalize the data\n",
        "transform = transforms.Compose([transforms.ToTensor(),\n",
        "                                transforms.Normalize((0.5,), (0.5,))])\n",
        "# Download and load the training data\n",
        "trainset = datasets.FashionMNIST('~/.pytorch/F_MNIST_data/', download=True, train=True, transform=transform)\n",
        "trainloader = torch.utils.data.DataLoader(trainset, batch_size=64, shuffle=True)\n",
        "\n",
        "# Download and load the test data\n",
        "testset = datasets.FashionMNIST('~/.pytorch/F_MNIST_data/', download=True, train=False, transform=transform)\n",
        "testloader = torch.utils.data.DataLoader(testset, batch_size=64, shuffle=True)"
      ],
      "execution_count": null,
      "outputs": [
        {
          "output_type": "stream",
          "text": [
            "Downloading http://fashion-mnist.s3-website.eu-central-1.amazonaws.com/train-images-idx3-ubyte.gz to /root/.pytorch/F_MNIST_data/FashionMNIST/raw/train-images-idx3-ubyte.gz\n"
          ],
          "name": "stdout"
        },
        {
          "output_type": "display_data",
          "data": {
            "application/vnd.jupyter.widget-view+json": {
              "model_id": "a1e1310eac214243b34d03e7556d9479",
              "version_minor": 0,
              "version_major": 2
            },
            "text/plain": [
              "HBox(children=(FloatProgress(value=1.0, bar_style='info', max=1.0), HTML(value='')))"
            ]
          },
          "metadata": {
            "tags": []
          }
        },
        {
          "output_type": "stream",
          "text": [
            "Extracting /root/.pytorch/F_MNIST_data/FashionMNIST/raw/train-images-idx3-ubyte.gz to /root/.pytorch/F_MNIST_data/FashionMNIST/raw\n",
            "Downloading http://fashion-mnist.s3-website.eu-central-1.amazonaws.com/train-labels-idx1-ubyte.gz to /root/.pytorch/F_MNIST_data/FashionMNIST/raw/train-labels-idx1-ubyte.gz\n"
          ],
          "name": "stdout"
        },
        {
          "output_type": "display_data",
          "data": {
            "application/vnd.jupyter.widget-view+json": {
              "model_id": "1fb4b6e22e5c4c6ba2770263a2cf8592",
              "version_minor": 0,
              "version_major": 2
            },
            "text/plain": [
              "HBox(children=(FloatProgress(value=1.0, bar_style='info', max=1.0), HTML(value='')))"
            ]
          },
          "metadata": {
            "tags": []
          }
        },
        {
          "output_type": "stream",
          "text": [
            "Extracting /root/.pytorch/F_MNIST_data/FashionMNIST/raw/train-labels-idx1-ubyte.gz to /root/.pytorch/F_MNIST_data/FashionMNIST/raw\n",
            "Downloading http://fashion-mnist.s3-website.eu-central-1.amazonaws.com/t10k-images-idx3-ubyte.gz to /root/.pytorch/F_MNIST_data/FashionMNIST/raw/t10k-images-idx3-ubyte.gz\n"
          ],
          "name": "stdout"
        },
        {
          "output_type": "display_data",
          "data": {
            "application/vnd.jupyter.widget-view+json": {
              "model_id": "6ee76e52e88b45c1932849dc478f01e3",
              "version_minor": 0,
              "version_major": 2
            },
            "text/plain": [
              "HBox(children=(FloatProgress(value=1.0, bar_style='info', max=1.0), HTML(value='')))"
            ]
          },
          "metadata": {
            "tags": []
          }
        },
        {
          "output_type": "stream",
          "text": [
            "Extracting /root/.pytorch/F_MNIST_data/FashionMNIST/raw/t10k-images-idx3-ubyte.gz to /root/.pytorch/F_MNIST_data/FashionMNIST/raw\n",
            "Downloading http://fashion-mnist.s3-website.eu-central-1.amazonaws.com/t10k-labels-idx1-ubyte.gz to /root/.pytorch/F_MNIST_data/FashionMNIST/raw/t10k-labels-idx1-ubyte.gz\n"
          ],
          "name": "stdout"
        },
        {
          "output_type": "display_data",
          "data": {
            "application/vnd.jupyter.widget-view+json": {
              "model_id": "69ec34ca0be44fc7bb14719787b00e2c",
              "version_minor": 0,
              "version_major": 2
            },
            "text/plain": [
              "HBox(children=(FloatProgress(value=1.0, bar_style='info', max=1.0), HTML(value='')))"
            ]
          },
          "metadata": {
            "tags": []
          }
        },
        {
          "output_type": "stream",
          "text": [
            "Extracting /root/.pytorch/F_MNIST_data/FashionMNIST/raw/t10k-labels-idx1-ubyte.gz to /root/.pytorch/F_MNIST_data/FashionMNIST/raw\n",
            "Processing...\n",
            "\n",
            "\n",
            "\n"
          ],
          "name": "stdout"
        },
        {
          "output_type": "stream",
          "text": [
            "/usr/local/lib/python3.7/dist-packages/torchvision/datasets/mnist.py:480: UserWarning: The given NumPy array is not writeable, and PyTorch does not support non-writeable tensors. This means you can write to the underlying (supposedly non-writeable) NumPy array using the tensor. You may want to copy the array to protect its data or make it writeable before converting it to a tensor. This type of warning will be suppressed for the rest of this program. (Triggered internally at  /pytorch/torch/csrc/utils/tensor_numpy.cpp:141.)\n",
            "  return torch.from_numpy(parsed.astype(m[2], copy=False)).view(*s)\n"
          ],
          "name": "stderr"
        },
        {
          "output_type": "stream",
          "text": [
            "Done!\n"
          ],
          "name": "stdout"
        }
      ]
    },
    {
      "cell_type": "markdown",
      "metadata": {
        "id": "UrSzCIObt5Mn"
      },
      "source": [
        "Lets take a look to the mini-batch size and plot a sample."
      ]
    },
    {
      "cell_type": "code",
      "metadata": {
        "colab": {
          "base_uri": "https://localhost:8080/"
        },
        "id": "tu-Be3xTt5Mn",
        "outputId": "7b0319bc-ee8d-4a32-f6c9-ef9e5af92ab4"
      },
      "source": [
        "dataiter = iter(trainloader)   #To iterate through the dataset\n",
        "\n",
        "images, labels = dataiter.next()\n",
        "print(type(images))\n",
        "print(images.shape)\n",
        "print(labels.shape)\n"
      ],
      "execution_count": null,
      "outputs": [
        {
          "output_type": "stream",
          "text": [
            "<class 'torch.Tensor'>\n",
            "torch.Size([64, 1, 28, 28])\n",
            "torch.Size([64])\n"
          ],
          "name": "stdout"
        }
      ]
    },
    {
      "cell_type": "markdown",
      "metadata": {
        "id": "h02SIdbCt5Mn"
      },
      "source": [
        "This is what one of the images looks like. "
      ]
    },
    {
      "cell_type": "code",
      "metadata": {
        "colab": {
          "base_uri": "https://localhost:8080/",
          "height": 282
        },
        "id": "bqOzYXIWt5Mo",
        "outputId": "fafc556c-2223-4d82-d27b-a0663a872c06"
      },
      "source": [
        "plt.imshow(images[1].numpy().reshape([28,28]), cmap='Greys_r')"
      ],
      "execution_count": null,
      "outputs": [
        {
          "output_type": "execute_result",
          "data": {
            "text/plain": [
              "<matplotlib.image.AxesImage at 0x7f9a96a76a90>"
            ]
          },
          "metadata": {
            "tags": []
          },
          "execution_count": 5
        },
        {
          "output_type": "stream",
          "text": [
            "\n"
          ],
          "name": "stdout"
        },
        {
          "output_type": "display_data",
          "data": {
            "image/png": "[encoded data removed]",
            "text/plain": [
              "<Figure size 432x288 with 1 Axes>"
            ]
          },
          "metadata": {
            "tags": [],
            "image/png": {
              "width": 251,
              "height": 248
            },
            "needs_background": "light"
          }
        }
      ]
    },
    {
      "cell_type": "markdown",
      "metadata": {
        "id": "h9TI3Hf6t5Mo"
      },
      "source": [
        "## Part II. Visualize overfiting\n",
        "\n",
        "> **Exercise**: Train a Neural Network with four layers, hidden dimmensions 256, 128 and 64 neurons. Use ReLU activation functions, and a log-Softmax output layer. To do so, complete the following steps: \n",
        "> - Create a class defining the NN model \n",
        "> - Extend the class to incorporate a training method. **Call it trainloop instead of train**. The reason will be clear later.\n",
        "> - Train the model for 30 epochs and evaluate train/test performance"
      ]
    },
    {
      "cell_type": "code",
      "metadata": {
        "id": "K5N0anvOt5Mo"
      },
      "source": [
        "class MLP(nn.Module):\n",
        "    def __init__(self,dimx,hidden1,hidden2,hidden3,nlabels): #Nlabels will be 10 in our case\n",
        "        super().__init__()\n",
        "        \n",
        "        self.output1 = nn.Linear(dimx,hidden1)\n",
        "        \n",
        "        self.output2 = nn.Linear(hidden1,hidden2)\n",
        "\n",
        "        self.output3 = nn.Linear(hidden2,hidden3)\n",
        "        \n",
        "        self.output4 = nn.Linear(hidden3,nlabels)\n",
        "    \n",
        "        self.relu = nn.ReLU()\n",
        "        \n",
        "        self.logsoftmax = nn.LogSoftmax(dim=1)                                                             \n",
        "        \n",
        "    def forward(self, x):\n",
        "        # Pass the input tensor through each of our operations\n",
        "        x = self.output1(x)\n",
        "        x = self.relu(x)\n",
        "        x = self.output2(x)\n",
        "        x = self.relu(x)\n",
        "        x = self.output3(x)\n",
        "        x = self.relu(x)\n",
        "        x = self.output4(x)\n",
        "        x = self.logsoftmax(x)\n",
        "        return x"
      ],
      "execution_count": null,
      "outputs": []
    },
    {
      "cell_type": "code",
      "metadata": {
        "id": "qQ7N-2Qrt5Mo"
      },
      "source": [
        "class MLP_extended(MLP):\n",
        "    \n",
        "    def __init__(self,dimx,hidden1,hidden2,hidden3,nlabels,epochs=100,lr=0.001):\n",
        "        \n",
        "        super().__init__(dimx,hidden1,hidden2,hidden3,nlabels)  #To initialize MLP!\n",
        "        \n",
        "        self.lr = lr #Learning Rate      \n",
        "        self.optim = optim.Adam(self.parameters(), self.lr)       \n",
        "        self.epochs = epochs       \n",
        "        self.criterion = nn.NLLLoss()\n",
        "        \n",
        "        # A list to store the loss evolution along training\n",
        "        self.loss_during_training = [] \n",
        "        \n",
        "        \n",
        "    def trainloop(self,loader):     \n",
        "        # Adam Loop  \n",
        "        for e in range(int(self.epochs)): \n",
        "            running_loss = 0.\n",
        "\n",
        "            for (images, labels) in trainloader:            \n",
        "                self.optim.zero_grad()  #TO RESET GRADIENTS!\n",
        "                out = self.forward(images.view(images.shape[0], -1))\n",
        "                loss = self.criterion(out, labels)\n",
        "                running_loss += loss.item()\n",
        "                loss.backward()\n",
        "                self.optim.step()\n",
        "      \n",
        "            self.loss_during_training.append(running_loss/len(trainloader))\n",
        "\n",
        "            if(e % 1 == 0): # Every 10 epochs \n",
        "                      print(\"Training loss after %d iterations: %f\" \n",
        "                      %(e,self.loss_during_training[-1]))\n",
        "                \n",
        "    def accuracy(self, loader):\n",
        "        accuracy = 0\n",
        "\n",
        "        # Turn off gradients for validation, saves memory and computations\n",
        "        with torch.no_grad():\n",
        "          for (images, labels) in loader:\n",
        "            logprobs = self.forward(images.view(images.shape[0], -1)) # We use a log-softmax, to get log-probabilities\n",
        "            top_p, top_class = logprobs.topk(1, dim=1)\n",
        "            equals = (top_class == labels.view(images.shape[0], 1))\n",
        "            accuracy += torch.mean(equals.type(torch.FloatTensor))              \n",
        "        print(\"Accuracy %f\" %(accuracy/len(loader)))\n",
        "        return accuracy/len(loader)\n",
        "         # print(f'The accuracy in the {part} dataset is: {accuracy/len(loader)}')"
      ],
      "execution_count": null,
      "outputs": []
    },
    {
      "cell_type": "code",
      "metadata": {
        "id": "e81SVyv8t5Mo",
        "colab": {
          "base_uri": "https://localhost:8080/"
        },
        "outputId": "7ba00074-bcfa-454e-9fb8-e8b2dad4c430"
      },
      "source": [
        "#YOUR CODE HERE\r\n",
        "\r\n",
        "my_MLP = MLP_extended(dimx = 784, hidden1 = 256, hidden2 = 128, hidden3 = 64, nlabels = 10, \r\n",
        "                   epochs = 30, lr = 1e-3)\r\n",
        "my_MLP.trainloop(trainloader)\r\n",
        "\r\n",
        "print(\"Train Accuracy %f\" %(my_MLP.accuracy(trainloader)))\r\n",
        "print(\"Valid Accuracy %f\" %(my_MLP.accuracy(validloader)))\r\n",
        "print(\"Test Accuracy %f\" %(my_MLP.accuracy(testloader)))"
      ],
      "execution_count": null,
      "outputs": [
        {
          "output_type": "stream",
          "text": [
            "Training loss after 0 iterations: 0.551011\n",
            "Training loss after 1 iterations: 0.394952\n",
            "Training loss after 2 iterations: 0.348159\n",
            "Training loss after 3 iterations: 0.323227\n",
            "Training loss after 4 iterations: 0.304504\n",
            "Training loss after 5 iterations: 0.284865\n",
            "Training loss after 6 iterations: 0.273701\n",
            "Training loss after 7 iterations: 0.257610\n",
            "Training loss after 8 iterations: 0.247714\n",
            "Training loss after 9 iterations: 0.235170\n",
            "Training loss after 10 iterations: 0.223789\n",
            "Training loss after 11 iterations: 0.214833\n",
            "Training loss after 12 iterations: 0.206028\n",
            "Training loss after 13 iterations: 0.192898\n",
            "Training loss after 14 iterations: 0.188974\n",
            "Training loss after 15 iterations: 0.177907\n",
            "Training loss after 16 iterations: 0.170536\n",
            "Training loss after 17 iterations: 0.165987\n",
            "Training loss after 18 iterations: 0.155620\n",
            "Training loss after 19 iterations: 0.150697\n",
            "Training loss after 20 iterations: 0.141251\n",
            "Training loss after 21 iterations: 0.136853\n",
            "Training loss after 22 iterations: 0.130840\n",
            "Training loss after 23 iterations: 0.129643\n",
            "Training loss after 24 iterations: 0.119478\n",
            "Training loss after 25 iterations: 0.113231\n",
            "Training loss after 26 iterations: 0.115140\n",
            "Training loss after 27 iterations: 0.106794\n",
            "Training loss after 28 iterations: 0.103572\n",
            "Training loss after 29 iterations: 0.098909\n",
            "Train Accuracy 0.956565\n",
            "Valid Accuracy 0.886990\n",
            "Test Accuracy 0.878981\n"
          ],
          "name": "stdout"
        }
      ]
    },
    {
      "cell_type": "markdown",
      "metadata": {
        "id": "nvO18w61t5Mp"
      },
      "source": [
        "In light of the train/test performance, certainly the model is performing significantly better in the train set than in the test set. This is a sign of overfitting. For an early detection of overfitting, we will make use of a **validation set** that we will use to visualize the evolution of the loss function during training. \n",
        "\n",
        "With the following code we split the train set into one training set (45k images) and a validation set (15k images). We do a naive splitting assuming that the data is randomized. **Keep in mind that in general you can do something smarter than this like K-Fold cross validation**, but here we keep it simple.\n",
        "\n"
      ]
    },
    {
      "cell_type": "code",
      "metadata": {
        "id": "pEGNV2rWt5Mp"
      },
      "source": [
        "import copy\n",
        "\n",
        "\n",
        "validloader = copy.deepcopy(trainloader)  # Creates a copy of the object \n",
        "\n",
        "#We take the first 45k images for training\n",
        "trainloader.dataset.data = trainloader.dataset.data[:45000,:,:]\n",
        "trainloader.dataset.targets = trainloader.dataset.targets[:45000]\n",
        "\n",
        "#And the rest for validation\n",
        "validloader.dataset.data = validloader.dataset.data[45000:,:,:]\n",
        "validloader.dataset.targets = validloader.dataset.targets[45000:]\n",
        "\n"
      ],
      "execution_count": null,
      "outputs": []
    },
    {
      "cell_type": "markdown",
      "metadata": {
        "id": "KeV-1_I_t5Mp"
      },
      "source": [
        "> **Exercise**: Modify your code class above so that, during training, everytime an epoch is finished you compute the loss function over the validation set. You must store these values into a list name as `valid_loss_during_training`. When performing this step, do not forget to turn off gradients by using `with torch.no_grad()`.\n",
        ">\n",
        ">Then, repeat the training (30 epochs) and plot the train/validation loss along epochs. Compute the final train/validation/test performance."
      ]
    },
    {
      "cell_type": "code",
      "metadata": {
        "id": "qX6wCOMVt5Mq"
      },
      "source": [
        "#YOUR CODE HERE\r\n",
        "\r\n",
        "class MLP_extended_2(MLP):\r\n",
        "    \r\n",
        "    def __init__(self,dimx,hidden1,hidden2,hidden3,nlabels,epochs=100,lr=0.001):   \r\n",
        "        super().__init__(dimx,hidden1,hidden2,hidden3,nlabels)  #To initialize MLP!      \r\n",
        "        self.lr = lr #Learning Rate      \r\n",
        "        self.optim = optim.Adam(self.parameters(), self.lr)      \r\n",
        "        self.epochs = epochs       \r\n",
        "        self.criterion = nn.NLLLoss()    \r\n",
        "        self.loss_during_training = []\r\n",
        "        # A list to store the loss evolution along validation    \r\n",
        "        self.valid_loss_during_training = [] \r\n",
        "\r\n",
        "    def valid_loss(self, validloader): \r\n",
        "        if validloader is not None:  \r\n",
        "            with torch.no_grad():\r\n",
        "                running_loss = 0.    \r\n",
        "                for (images, labels) in validloader:\r\n",
        "                    out = self.forward(images.view(images.shape[0], -1))\r\n",
        "                    loss = self.criterion(out, labels)\r\n",
        "                    running_loss += loss.item()    \r\n",
        "                self.valid_loss_during_training.append(running_loss/len(validloader))    \r\n",
        "        else:  \r\n",
        "            raise ValueError('validloader must contain data.')        \r\n",
        "          \r\n",
        "    def trainloop(self,trainloader,validloader = None):     \r\n",
        "        # Adam Loop     \r\n",
        "        for e in range(int(self.epochs)):      \r\n",
        "            running_loss = 0.\r\n",
        "\r\n",
        "            for images, labels in trainloader:             \r\n",
        "                self.optim.zero_grad()  #TO RESET GRADIENTS!\r\n",
        "                out = self.forward(images.view(images.shape[0], -1))             \r\n",
        "                loss = self.criterion(out, labels)\r\n",
        "                running_loss += loss.item()\r\n",
        "                loss.backward()\r\n",
        "                self.optim.step()       \r\n",
        "\r\n",
        "            self.loss_during_training.append(running_loss/len(trainloader))\r\n",
        "            if validloader is not None:\r\n",
        "                self.valid_loss(validloader)\r\n",
        "\r\n",
        "            if(e % 1 == 0): # Every 1 epochs              \r\n",
        "                print(\"Training loss after %d iterations: %f\" \r\n",
        "                      %(e,self.loss_during_training[-1]))              \r\n",
        "                print(\"Validation loss after %d epochs: %f\" \r\n",
        "                      %(e,self.valid_loss_during_training[-1]))           \r\n",
        "\r\n",
        "    def accuracy(self, loader):     \r\n",
        "        accuracy = 0\r\n",
        "        # Turn off gradients for validation, saves memory and computations\r\n",
        "        with torch.no_grad():\r\n",
        "          for (images, labels) in loader:\r\n",
        "            logprobs = self.forward(images.view(images.shape[0], -1)) # We use a log-softmax, to get log-probabilities\r\n",
        "            top_p, top_class = logprobs.topk(1, dim=1)\r\n",
        "            equals = (top_class == labels.view(images.shape[0], 1))\r\n",
        "            accuracy += torch.mean(equals.type(torch.FloatTensor))     \r\n",
        "        print(\"Accuracy %f\" %(accuracy/len(loader)))\r\n",
        "        return accuracy/len(loader)  \r\n",
        "        "
      ],
      "execution_count": null,
      "outputs": []
    },
    {
      "cell_type": "code",
      "metadata": {
        "colab": {
          "base_uri": "https://localhost:8080/"
        },
        "id": "FnfCqEQiO4xH",
        "outputId": "7d3a544b-d12e-492b-b981-35fde3512e07"
      },
      "source": [
        "\r\n",
        "\r\n",
        "my_MLP_2 = MLP_extended_2(dimx=784, hidden1=256,hidden2=128, hidden3=64,nlabels=10,epochs=30,lr=1e-3)\r\n",
        "\r\n",
        "my_MLP_2.trainloop(trainloader, validloader)\r\n",
        "\r\n",
        "print(\"Train Accuracy %f\" %(my_MLP_2.accuracy(trainloader)))\r\n",
        "print(\"Valid Accuracy %f\" %(my_MLP_2.accuracy(validloader)))\r\n",
        "print(\"Test Accuracy %f\" %(my_MLP_2.accuracy(testloader)))"
      ],
      "execution_count": null,
      "outputs": [
        {
          "output_type": "stream",
          "text": [
            "Training loss after 0 iterations: 0.554042\n",
            "Validation loss after 0 epochs: 0.419687\n",
            "Training loss after 1 iterations: 0.390431\n",
            "Validation loss after 1 epochs: 0.410529\n",
            "Training loss after 2 iterations: 0.348431\n",
            "Validation loss after 2 epochs: 0.348140\n",
            "Training loss after 3 iterations: 0.323367\n",
            "Validation loss after 3 epochs: 0.363780\n",
            "Training loss after 4 iterations: 0.301980\n",
            "Validation loss after 4 epochs: 0.353059\n",
            "Training loss after 5 iterations: 0.285356\n",
            "Validation loss after 5 epochs: 0.333250\n",
            "Training loss after 6 iterations: 0.272151\n",
            "Validation loss after 6 epochs: 0.345417\n",
            "Training loss after 7 iterations: 0.257495\n",
            "Validation loss after 7 epochs: 0.323966\n",
            "Training loss after 8 iterations: 0.246493\n",
            "Validation loss after 8 epochs: 0.308279\n",
            "Training loss after 9 iterations: 0.233643\n",
            "Validation loss after 9 epochs: 0.365022\n",
            "Training loss after 10 iterations: 0.226335\n",
            "Validation loss after 10 epochs: 0.351428\n",
            "Training loss after 11 iterations: 0.213803\n",
            "Validation loss after 11 epochs: 0.322936\n",
            "Training loss after 12 iterations: 0.204179\n",
            "Validation loss after 12 epochs: 0.339734\n",
            "Training loss after 13 iterations: 0.197055\n",
            "Validation loss after 13 epochs: 0.334211\n",
            "Training loss after 14 iterations: 0.186216\n",
            "Validation loss after 14 epochs: 0.345724\n",
            "Training loss after 15 iterations: 0.180031\n",
            "Validation loss after 15 epochs: 0.345927\n",
            "Training loss after 16 iterations: 0.172598\n",
            "Validation loss after 16 epochs: 0.386009\n",
            "Training loss after 17 iterations: 0.166532\n",
            "Validation loss after 17 epochs: 0.364850\n",
            "Training loss after 18 iterations: 0.159143\n",
            "Validation loss after 18 epochs: 0.386483\n",
            "Training loss after 19 iterations: 0.151342\n",
            "Validation loss after 19 epochs: 0.375631\n",
            "Training loss after 20 iterations: 0.142549\n",
            "Validation loss after 20 epochs: 0.391153\n",
            "Training loss after 21 iterations: 0.141191\n",
            "Validation loss after 21 epochs: 0.380257\n",
            "Training loss after 22 iterations: 0.131083\n",
            "Validation loss after 22 epochs: 0.387790\n",
            "Training loss after 23 iterations: 0.128420\n",
            "Validation loss after 23 epochs: 0.450793\n",
            "Training loss after 24 iterations: 0.124392\n",
            "Validation loss after 24 epochs: 0.444403\n",
            "Training loss after 25 iterations: 0.120105\n",
            "Validation loss after 25 epochs: 0.424750\n",
            "Training loss after 26 iterations: 0.115037\n",
            "Validation loss after 26 epochs: 0.439527\n",
            "Training loss after 27 iterations: 0.109933\n",
            "Validation loss after 27 epochs: 0.432910\n",
            "Training loss after 28 iterations: 0.105231\n",
            "Validation loss after 28 epochs: 0.432195\n",
            "Training loss after 29 iterations: 0.099651\n",
            "Validation loss after 29 epochs: 0.476817\n",
            "Accuracy 0.963912\n",
            "Train Accuracy 0.963912\n",
            "Accuracy 0.887367\n",
            "Valid Accuracy 0.887367\n",
            "Accuracy 0.882564\n",
            "Test Accuracy 0.882564\n"
          ],
          "name": "stdout"
        }
      ]
    },
    {
      "cell_type": "code",
      "metadata": {
        "colab": {
          "base_uri": "https://localhost:8080/",
          "height": 295
        },
        "id": "aNaN7eg3A2n2",
        "outputId": "ef37f884-5984-481d-d45a-85ecb553335d"
      },
      "source": [
        "plt.plot(my_MLP_2.loss_during_training)\r\n",
        "plt.plot(my_MLP_2.valid_loss_during_training)\r\n",
        "plt.grid()\r\n",
        "plt.xlabel('Iteration')\r\n",
        "plt.ylabel('Loss Functions')"
      ],
      "execution_count": null,
      "outputs": [
        {
          "output_type": "execute_result",
          "data": {
            "text/plain": [
              "Text(0, 0.5, 'Loss Functions')"
            ]
          },
          "metadata": {
            "tags": []
          },
          "execution_count": 12
        },
        {
          "output_type": "display_data",
          "data": {
            "image/png": "[encoded data removed]",
            "text/plain": [
              "<Figure size 432x288 with 1 Axes>"
            ]
          },
          "metadata": {
            "tags": [],
            "image/png": {
              "width": 387,
              "height": 261
            },
            "needs_background": "light"
          }
        }
      ]
    },
    {
      "cell_type": "markdown",
      "metadata": {
        "id": "rcbXSmFfDTJm"
      },
      "source": [
        "As can be seen from the previous plot, early stopping at a number of 8 epochs would prevent the model from overfitting, as from there the validation loss function starts increasing."
      ]
    },
    {
      "cell_type": "markdown",
      "metadata": {
        "id": "906vjwrIt5Mq"
      },
      "source": [
        "If we look at the training and validation losses as we train the network, we can see a phenomenon known as overfitting. \n",
        "\n",
        "The network learns the training set better and better, resulting in lower training losses. However, it starts having problems generalizing to data outside the training set leading to the validation loss increasing. The ultimate goal of any deep learning model is to make predictions on new data, so we should strive to get the lowest validation loss possible. One option is to use the version of the model with the lowest validation loss, here the one around 8-10 training epochs. This strategy is called *early-stopping*. In practice, you'd save the model frequently as you're training then later choose the model with the lowest validation loss. **Note that with early stopping we are using the validation set to select the appropiate number of epochs.**\n",
        "\n",
        "> **Exercise:** According to your results, re-train the model again for the right number of epochs (just before the validation loss starts to grow). Compare the train, validation and test performance."
      ]
    },
    {
      "cell_type": "code",
      "metadata": {
        "id": "TI41MazNt5Mq",
        "colab": {
          "base_uri": "https://localhost:8080/"
        },
        "outputId": "182d0251-1da9-4959-d1e5-b346aa7919d0"
      },
      "source": [
        "#YOUR CODE HERE\r\n",
        "\r\n",
        "#Number of epochs is 5\r\n",
        "\r\n",
        "my_MLP_2 = MLP_extended_2(dimx = 784, hidden1 = 256, hidden2 = 128, hidden3 = 64, nlabels = 10, \r\n",
        "                       epochs = 8, lr = 1e-3)\r\n",
        "my_MLP_2.trainloop(trainloader, validloader)\r\n",
        "\r\n",
        "\r\n",
        "\r\n",
        "print(\"Train Accuracy %f\" %(my_MLP_2.accuracy(trainloader)))\r\n",
        "print(\"Valid Accuracy %f\" %(my_MLP_2.accuracy(validloader)))\r\n",
        "print(\"Test Accuracy %f\" %(my_MLP_2.accuracy(testloader)))"
      ],
      "execution_count": null,
      "outputs": [
        {
          "output_type": "stream",
          "text": [
            "Training loss after 0 iterations: 0.544244\n",
            "Validation loss after 0 epochs: 0.452874\n",
            "Training loss after 1 iterations: 0.389908\n",
            "Validation loss after 1 epochs: 0.388894\n",
            "Training loss after 2 iterations: 0.351477\n",
            "Validation loss after 2 epochs: 0.394247\n",
            "Training loss after 3 iterations: 0.324894\n",
            "Validation loss after 3 epochs: 0.353989\n",
            "Training loss after 4 iterations: 0.304188\n",
            "Validation loss after 4 epochs: 0.329592\n",
            "Training loss after 5 iterations: 0.287240\n",
            "Validation loss after 5 epochs: 0.340290\n",
            "Training loss after 6 iterations: 0.272110\n",
            "Validation loss after 6 epochs: 0.333635\n",
            "Training loss after 7 iterations: 0.258973\n",
            "Validation loss after 7 epochs: 0.325209\n",
            "Accuracy 0.913441\n",
            "Train Accuracy 0.913441\n",
            "Accuracy 0.883466\n",
            "Valid Accuracy 0.883466\n",
            "Accuracy 0.875697\n",
            "Test Accuracy 0.875697\n"
          ],
          "name": "stdout"
        }
      ]
    },
    {
      "cell_type": "markdown",
      "metadata": {
        "id": "FBR7RS2MARrs"
      },
      "source": [
        "The train performance is slightly better than the validation and the test ones, nevertheless, both accuracies are quite high (above 87.5%), showing an appropriate performance of the sets."
      ]
    },
    {
      "cell_type": "markdown",
      "metadata": {
        "id": "fewKULcAt5Mr"
      },
      "source": [
        "## Part III. Using Dropout Regularization\n",
        "\n",
        "The most common method to reduce overfitting (outside of early-stopping) is *dropout*, where we randomly drop input units. This forces the network to share information between weights, increasing it's ability to generalize to new data. Adding dropout in PyTorch is straightforward using the [`nn.Dropout`](https://pytorch.org/docs/stable/nn.html#torch.nn.Dropout) module.\n",
        "\n",
        "The following code corresponds to a 2 layer NN where we use dropout in the intermediate hidden space:\n",
        "\n",
        "\n",
        "```python\n",
        "class MLP_dropout(nn.Module):\n",
        "    def __init__(self,dimx,hidden1,nlabels): #Nlabels will be 10 in our case\n",
        "        super().__init__()\n",
        "        \n",
        "        self.output1 = nn.Linear(dimx,hidden1)  \n",
        "        \n",
        "        self.output2 = nn.Linear(hidden1,nlabels)\n",
        "    \n",
        "        self.relu = nn.ReLU()\n",
        "        \n",
        "        self.logsoftmax = nn.LogSoftmax(dim=1)  \n",
        "        \n",
        "        # Dropout module with 0.2 drop probability\n",
        "        self.dropout = nn.Dropout(p=0.2)\n",
        "        \n",
        "    def forward(self, x):\n",
        "        # Pass the input tensor through each of our operations\n",
        "        x = self.output1(x)\n",
        "        x = self.relu(x)\n",
        "        x = self.dropout(x)\n",
        "        x = self.output2(x)\n",
        "        x = self.logsoftmax(x) #YOUR CODE HERE\n",
        "        return x\n",
        "\n",
        "```\n",
        "\n",
        "During training we want to use dropout to prevent overfitting, but during inference we want to use the entire network. So, we need to turn off dropout during validation, testing, and whenever we're using the network to make predictions. To do this, you use `self.eval()`. This sets the model to evaluation mode where the dropout probability is 0. You can turn dropout back on by setting the model to train mode with `self.train()` (**This is why we cannot call our training method `train` anymore**). In general, the pattern for the validation loop will look like this, where you turn off gradients, set the model to evaluation mode, calculate the validation loss and metric, then set the model back to train mode.\n",
        "\n",
        "```python\n",
        "# turn off gradients\n",
        "with torch.no_grad():\n",
        "    \n",
        "    # set model to evaluation mode\n",
        "    self.eval()\n",
        "    \n",
        "    # validation pass here\n",
        "    for images, labels in testloader:\n",
        "        ...\n",
        "\n",
        "# set model back to train mode\n",
        "self.train()\n",
        "```\n",
        "\n",
        "> **Exercise:** \n",
        "> - Create a new NN class that modifies the previous one by incorporating a dropout step with `p=0.2`  after every ReLU non-linearity is applied. \n",
        "> - Modified the extended clases to set `model.eval()` when appropiate (do not forget to go back to `model.train()`)\n",
        "> - For this new model, plot the evolution of the training and validation losses. Compare with the case with no dropout. Discuss the results. Is early stopping still required? If so, when you should stop training? Compare the train, validation and test performance.\n",
        "> - Repeat the experiments for a dropout probability of `p=0.1` and `p=0.3`. Which value provides the best validation performance? "
      ]
    },
    {
      "cell_type": "code",
      "metadata": {
        "id": "KTWbqozOt5Ms"
      },
      "source": [
        "class MLP_drop(nn.Module):\n",
        "    def __init__(self,dimx,hidden1,hidden2,hidden3,nlabels): #Nlabels will be 10 in our case\n",
        "        super().__init__()\n",
        "        self.output1 = nn.Linear(dimx,hidden1)      \n",
        "        self.output2 = nn.Linear(hidden1,hidden2)\n",
        "        self.output3 = nn.Linear(hidden2,hidden3)        \n",
        "        self.output4 = nn.Linear(hidden3,nlabels)    \n",
        "        self.relu = nn.ReLU()        \n",
        "        self.logsoftmax = nn.LogSoftmax(dim=1)\n",
        "        # Dropout module with 0.2 drop probability\n",
        "        self.dropout = nn.Dropout(p=0.2)\n",
        "\n",
        "    def forward(self, x):\n",
        "        # Pass the input tensor through each of our operations\n",
        "        x = self.output1(x)\n",
        "        x = self.relu(x)\n",
        "        x = self.dropout(x)\n",
        "        x = self.output2(x)\n",
        "        x = self.relu(x)\n",
        "        x = self.dropout(x)\n",
        "        x = self.output3(x)\n",
        "        x = self.relu(x)\n",
        "        x = self.dropout(x)\n",
        "        x = self.output4(x)\n",
        "        x = self.logsoftmax(x)\n",
        "        return x"
      ],
      "execution_count": null,
      "outputs": []
    },
    {
      "cell_type": "code",
      "metadata": {
        "id": "vAi6PPOkt5Ms"
      },
      "source": [
        "class MLPdrop_extended(MLP_drop):\n",
        "\n",
        "    def __init__(self,dimx,hidden1,hidden2,hidden3,nlabels,epochs=100,lr=0.001):    \n",
        "        super().__init__(dimx,hidden1,hidden2,hidden3,nlabels)  #To initialize MLP!     \n",
        "        self.lr = lr #Learning Rate   \n",
        "        self.optim = optim.Adam(self.parameters(), self.lr)      \n",
        "        self.epochs = epochs     \n",
        "        self.criterion = nn.NLLLoss()       \n",
        "        self.loss_during_training = [] # Store the loss evolution along training\n",
        "        # A list to store the loss evolution along validation        \n",
        "        self.valid_loss_during_training = [] \n",
        "        \n",
        "    def valid_loss(self, validloader):\n",
        "        if validloader is not None:\n",
        "            with torch.no_grad():\n",
        "                self.eval()\n",
        "                running_loss = 0.\n",
        "                for (images, labels) in validloader:\n",
        "                    out = self.forward(images.view(images.shape[0], -1))\n",
        "                    loss = self.criterion(out, labels)\n",
        "                    running_loss += loss.item()\n",
        "                self.valid_loss_during_training.append(running_loss/len(validloader))\n",
        "        else:\n",
        "            raise ValueError('validloader must contain data.')\n",
        "\n",
        "    # set model back to train mode\n",
        "        self.train() \n",
        "\n",
        "    def trainloop(self,trainloader, validloader = None):       \n",
        "        # Adam Loop        \n",
        "        for e in range(int(self.epochs)):     \n",
        "            running_loss = 0.\n",
        "            for images, labels in trainloader:           \n",
        "                self.optim.zero_grad()  #TO RESET GRADIENTS!\n",
        "                out = self.forward(images.view(images.shape[0], -1))                \n",
        "                loss = self.criterion(out, labels)\n",
        "                running_loss += loss.item()\n",
        "                loss.backward()\n",
        "                self.optim.step()       \n",
        "            self.loss_during_training.append(running_loss/len(trainloader))\n",
        "            if validloader is not None:\n",
        "                self.valid_loss(validloader)\n",
        "\n",
        "            if(e % 1 == 0): # Every 10 epochs               \n",
        "                print(\"Training loss after %d iterations: %f\" \n",
        "                      %(e,self.loss_during_training[-1]))\n",
        "                print(\"Validation loss after %d epochs: %f\" \n",
        "                      %(e,self.valid_loss_during_training[-1]))  \n",
        "                \n",
        "    def accuracy(self, loader):     \n",
        "        accuracy = 0\n",
        "        # Turn off gradients for validation, saves memory and computations\n",
        "        with torch.no_grad():\n",
        "          for (images, labels) in loader:\n",
        "            logprobs = self.forward(images.view(images.shape[0], -1)) # We use a log-softmax, to get log-probabilities\n",
        "            top_p, top_class = logprobs.topk(1, dim=1)\n",
        "            equals = (top_class == labels.view(images.shape[0], 1))\n",
        "            accuracy += torch.mean(equals.type(torch.FloatTensor))     \n",
        "        print(\"Accuracy %f\" %(accuracy/len(loader)))\n",
        "        return accuracy/len(loader)         "
      ],
      "execution_count": null,
      "outputs": []
    },
    {
      "cell_type": "code",
      "metadata": {
        "id": "ZHUmZpxyt5Ms",
        "colab": {
          "base_uri": "https://localhost:8080/"
        },
        "outputId": "da08bef6-fd3d-48b5-ffeb-5cac148d1c0a"
      },
      "source": [
        "#YOUR CODE HERE\r\n",
        "\r\n",
        "my_MLP_drop = MLPdrop_extended(dimx=784, hidden1=256,hidden2=128, hidden3=64,nlabels=10,epochs=30,lr=1e-3)\r\n",
        "\r\n",
        "my_MLP_drop.trainloop(trainloader, validloader)\r\n",
        "\r\n",
        "print(\"Train Accuracy %f\" %(my_MLP_drop.accuracy(trainloader)))\r\n",
        "print(\"Valid Accuracy %f\" %(my_MLP_drop.accuracy(validloader)))\r\n",
        "print(\"Test Accuracy %f\" %(my_MLP_drop.accuracy(testloader)))"
      ],
      "execution_count": null,
      "outputs": [
        {
          "output_type": "stream",
          "text": [
            "Training loss after 0 iterations: 0.632948\n",
            "Validation loss after 0 epochs: 0.451563\n",
            "Training loss after 1 iterations: 0.452671\n",
            "Validation loss after 1 epochs: 0.420068\n",
            "Training loss after 2 iterations: 0.416711\n",
            "Validation loss after 2 epochs: 0.391541\n",
            "Training loss after 3 iterations: 0.385680\n",
            "Validation loss after 3 epochs: 0.358755\n",
            "Training loss after 4 iterations: 0.369112\n",
            "Validation loss after 4 epochs: 0.353566\n",
            "Training loss after 5 iterations: 0.353085\n",
            "Validation loss after 5 epochs: 0.350278\n",
            "Training loss after 6 iterations: 0.340513\n",
            "Validation loss after 6 epochs: 0.344024\n",
            "Training loss after 7 iterations: 0.332770\n",
            "Validation loss after 7 epochs: 0.342292\n",
            "Training loss after 8 iterations: 0.315808\n",
            "Validation loss after 8 epochs: 0.347990\n",
            "Training loss after 9 iterations: 0.313131\n",
            "Validation loss after 9 epochs: 0.328921\n",
            "Training loss after 10 iterations: 0.303628\n",
            "Validation loss after 10 epochs: 0.347865\n",
            "Training loss after 11 iterations: 0.292292\n",
            "Validation loss after 11 epochs: 0.333075\n",
            "Training loss after 12 iterations: 0.291048\n",
            "Validation loss after 12 epochs: 0.320524\n",
            "Training loss after 13 iterations: 0.280967\n",
            "Validation loss after 13 epochs: 0.333809\n",
            "Training loss after 14 iterations: 0.281405\n",
            "Validation loss after 14 epochs: 0.323686\n",
            "Training loss after 15 iterations: 0.270893\n",
            "Validation loss after 15 epochs: 0.319567\n",
            "Training loss after 16 iterations: 0.266286\n",
            "Validation loss after 16 epochs: 0.335945\n",
            "Training loss after 17 iterations: 0.260327\n",
            "Validation loss after 17 epochs: 0.331677\n",
            "Training loss after 18 iterations: 0.259133\n",
            "Validation loss after 18 epochs: 0.311473\n",
            "Training loss after 19 iterations: 0.254075\n",
            "Validation loss after 19 epochs: 0.315961\n",
            "Training loss after 20 iterations: 0.247438\n",
            "Validation loss after 20 epochs: 0.329235\n",
            "Training loss after 21 iterations: 0.246186\n",
            "Validation loss after 21 epochs: 0.316980\n",
            "Training loss after 22 iterations: 0.240186\n",
            "Validation loss after 22 epochs: 0.323056\n",
            "Training loss after 23 iterations: 0.237620\n",
            "Validation loss after 23 epochs: 0.324953\n",
            "Training loss after 24 iterations: 0.231793\n",
            "Validation loss after 24 epochs: 0.326910\n",
            "Training loss after 25 iterations: 0.235706\n",
            "Validation loss after 25 epochs: 0.344646\n",
            "Training loss after 26 iterations: 0.225662\n",
            "Validation loss after 26 epochs: 0.319557\n",
            "Training loss after 27 iterations: 0.228108\n",
            "Validation loss after 27 epochs: 0.321014\n",
            "Training loss after 28 iterations: 0.229982\n",
            "Validation loss after 28 epochs: 0.321145\n",
            "Training loss after 29 iterations: 0.219057\n",
            "Validation loss after 29 epochs: 0.330316\n",
            "Accuracy 0.922452\n",
            "Train Accuracy 0.922452\n",
            "Accuracy 0.882801\n",
            "Valid Accuracy 0.882801\n",
            "Accuracy 0.874005\n",
            "Test Accuracy 0.874005\n"
          ],
          "name": "stdout"
        }
      ]
    },
    {
      "cell_type": "code",
      "metadata": {
        "colab": {
          "base_uri": "https://localhost:8080/",
          "height": 295
        },
        "id": "3L6JSBx4t-M1",
        "outputId": "56fceca0-6a70-492d-87e2-f819354133ed"
      },
      "source": [
        "plt.plot(my_MLP_drop.loss_during_training)\r\n",
        "plt.plot(my_MLP_drop.valid_loss_during_training)\r\n",
        "plt.grid()\r\n",
        "plt.xlabel('Iteration')\r\n",
        "plt.ylabel('Loss Functions for p=0.2 Dropout')"
      ],
      "execution_count": null,
      "outputs": [
        {
          "output_type": "execute_result",
          "data": {
            "text/plain": [
              "Text(0, 0.5, 'Loss Function for p=0.2 Dropout')"
            ]
          },
          "metadata": {
            "tags": []
          },
          "execution_count": 89
        },
        {
          "output_type": "display_data",
          "data": {
            "image/png": "[encoded data removed]",
            "text/plain": [
              "<Figure size 432x288 with 1 Axes>"
            ]
          },
          "metadata": {
            "tags": [],
            "image/png": {
              "width": 387,
              "height": 261
            },
            "needs_background": "light"
          }
        }
      ]
    },
    {
      "cell_type": "markdown",
      "metadata": {
        "id": "ph4Ilaewk_7h"
      },
      "source": [
        "It can be seen that the optimal number of epochs is 8, as from there, there is no big improvement in terms of loss function for the validation set. Contrary to the case with no dropout, in this case the validation loss function continues decreasing, but from the 8th iteration it stabilizes, so that the decrease from there to the last iteration is only of a 3.5%, and from the 8th iteration to the lowest peak, at 19th iteration, is of a 9.9%."
      ]
    },
    {
      "cell_type": "code",
      "metadata": {
        "colab": {
          "base_uri": "https://localhost:8080/"
        },
        "id": "SJbhQ8Mqelwb",
        "outputId": "95604c2b-470a-4ab6-e117-883cda2ec5f8"
      },
      "source": [
        "# Repeat for 8 epochs\r\n",
        "\r\n",
        "my_MLP_drop = MLPdrop_extended(dimx=784, hidden1=256,hidden2=128, hidden3=64,nlabels=10,epochs=8,lr=1e-3)\r\n",
        "\r\n",
        "my_MLP_drop.trainloop(trainloader, validloader)\r\n",
        "\r\n",
        "print(\"Train Accuracy %f\" %(my_MLP_drop.accuracy(trainloader)))\r\n",
        "print(\"Valid Accuracy %f\" %(my_MLP_drop.accuracy(validloader)))\r\n",
        "print(\"Test Accuracy %f\" %(my_MLP_drop.accuracy(testloader)))"
      ],
      "execution_count": null,
      "outputs": [
        {
          "output_type": "stream",
          "text": [
            "Training loss after 0 iterations: 0.638431\n",
            "Validation loss after 0 epochs: 0.448632\n",
            "Training loss after 1 iterations: 0.452867\n",
            "Validation loss after 1 epochs: 0.404348\n",
            "Training loss after 2 iterations: 0.418418\n",
            "Validation loss after 2 epochs: 0.403664\n",
            "Training loss after 3 iterations: 0.385796\n",
            "Validation loss after 3 epochs: 0.368622\n",
            "Training loss after 4 iterations: 0.367861\n",
            "Validation loss after 4 epochs: 0.358132\n",
            "Training loss after 5 iterations: 0.351835\n",
            "Validation loss after 5 epochs: 0.351910\n",
            "Training loss after 6 iterations: 0.343505\n",
            "Validation loss after 6 epochs: 0.344706\n",
            "Training loss after 7 iterations: 0.331095\n",
            "Validation loss after 7 epochs: 0.330496\n",
            "Accuracy 0.886563\n",
            "Train Accuracy 0.886563\n",
            "Accuracy 0.868551\n",
            "Valid Accuracy 0.868551\n",
            "Accuracy 0.862162\n",
            "Test Accuracy 0.862162\n"
          ],
          "name": "stdout"
        }
      ]
    },
    {
      "cell_type": "code",
      "metadata": {
        "id": "EUbQUwFDt5Ms"
      },
      "source": [
        "#YOUR CODE HERE\r\n",
        "\r\n",
        "#For Dropout p=0.1\r\n",
        "\r\n",
        "class MLP_drop2(nn.Module):\r\n",
        "    def __init__(self,dimx,hidden1,hidden2,hidden3,nlabels): #Nlabels will be 10 in our case\r\n",
        "        super().__init__()\r\n",
        "        self.output1 = nn.Linear(dimx,hidden1)       \r\n",
        "        self.output2 = nn.Linear(hidden1,hidden2)\r\n",
        "        self.output3 = nn.Linear(hidden2,hidden3)      \r\n",
        "        self.output4 = nn.Linear(hidden3,nlabels)   \r\n",
        "        self.relu = nn.ReLU()       \r\n",
        "        self.logsoftmax = nn.LogSoftmax(dim=1)\r\n",
        "        # Dropout module with 0.1 drop probability\r\n",
        "        self.dropout = nn.Dropout(p=0.1)\r\n",
        "\r\n",
        "    def forward(self, x):\r\n",
        "        # Pass the input tensor through each of our operations\r\n",
        "        x = self.output1(x)\r\n",
        "        x = self.relu(x)\r\n",
        "        x = self.dropout(x)\r\n",
        "        x = self.output2(x)\r\n",
        "        x = self.relu(x)\r\n",
        "        x = self.dropout(x)\r\n",
        "        x = self.output3(x)\r\n",
        "        x = self.relu(x)\r\n",
        "        x = self.dropout(x)\r\n",
        "        x = self.output4(x)\r\n",
        "        x = self.logsoftmax(x)\r\n",
        "        return x\r\n"
      ],
      "execution_count": null,
      "outputs": []
    },
    {
      "cell_type": "code",
      "metadata": {
        "id": "wjORp4p5t5Ms"
      },
      "source": [
        "#YOUR CODE HERE\r\n",
        "\r\n",
        "class MLPdrop2_extended(MLP_drop2):\r\n",
        "\r\n",
        "    def __init__(self,dimx,hidden1,hidden2,hidden3,nlabels,epochs=100,lr=0.001):    \r\n",
        "        super().__init__(dimx,hidden1,hidden2,hidden3,nlabels)  #To initialize MLP!     \r\n",
        "        self.lr = lr #Learning Rate   \r\n",
        "        self.optim = optim.Adam(self.parameters(), self.lr)      \r\n",
        "        self.epochs = epochs     \r\n",
        "        self.criterion = nn.NLLLoss()       \r\n",
        "        self.loss_during_training = [] # Store the loss evolution along training\r\n",
        "        # A list to store the loss evolution along validation        \r\n",
        "        self.valid_loss_during_training = [] \r\n",
        "        \r\n",
        "    def valid_loss(self, validloader):\r\n",
        "        if validloader is not None:\r\n",
        "            with torch.no_grad():\r\n",
        "                self.eval()\r\n",
        "                running_loss = 0.\r\n",
        "                for (images, labels) in validloader:\r\n",
        "                    out = self.forward(images.view(images.shape[0], -1))\r\n",
        "                    loss = self.criterion(out, labels)\r\n",
        "                    running_loss += loss.item()\r\n",
        "                self.valid_loss_during_training.append(running_loss/len(validloader))\r\n",
        "        else:\r\n",
        "            raise ValueError('validloader must contain data.')\r\n",
        "\r\n",
        "    # set model back to train mode\r\n",
        "        self.train() \r\n",
        "\r\n",
        "    def trainloop(self,trainloader, validloader = None):       \r\n",
        "        # Adam Loop        \r\n",
        "        for e in range(int(self.epochs)):     \r\n",
        "            running_loss = 0.\r\n",
        "            for images, labels in trainloader:           \r\n",
        "                self.optim.zero_grad()  #TO RESET GRADIENTS!\r\n",
        "                out = self.forward(images.view(images.shape[0], -1))                \r\n",
        "                loss = self.criterion(out, labels)\r\n",
        "                running_loss += loss.item()\r\n",
        "                loss.backward()\r\n",
        "                self.optim.step()       \r\n",
        "            self.loss_during_training.append(running_loss/len(trainloader))\r\n",
        "            if validloader is not None:\r\n",
        "                self.valid_loss(validloader)\r\n",
        "\r\n",
        "            if(e % 1 == 0): # Every 10 epochs               \r\n",
        "                print(\"Training loss after %d iterations: %f\" \r\n",
        "                      %(e,self.loss_during_training[-1]))\r\n",
        "                print(\"Validation loss after %d epochs: %f\" \r\n",
        "                      %(e,self.valid_loss_during_training[-1]))                \r\n",
        "\r\n",
        "    def accuracy(self, loader):     \r\n",
        "        accuracy = 0\r\n",
        "        # Turn off gradients for validation, saves memory and computations\r\n",
        "        with torch.no_grad():\r\n",
        "          for (images, labels) in loader:\r\n",
        "            logprobs = self.forward(images.view(images.shape[0], -1)) # We use a log-softmax, to get log-probabilities\r\n",
        "            top_p, top_class = logprobs.topk(1, dim=1)\r\n",
        "            equals = (top_class == labels.view(images.shape[0], 1))\r\n",
        "            accuracy += torch.mean(equals.type(torch.FloatTensor))     \r\n",
        "        print(\"Accuracy %f\" %(accuracy/len(loader)))\r\n",
        "        return accuracy/len(loader)         \r\n"
      ],
      "execution_count": null,
      "outputs": []
    },
    {
      "cell_type": "code",
      "metadata": {
        "id": "oDvPzmGkt5Mt",
        "colab": {
          "base_uri": "https://localhost:8080/"
        },
        "outputId": "aaa76631-e59a-4e2b-8f1c-ca756be62984"
      },
      "source": [
        "my_MLP_drop2 = MLPdrop2_extended(dimx=784, hidden1=256,hidden2=128, hidden3=64,nlabels=10,epochs=30,lr=1e-3)\r\n",
        "\r\n",
        "my_MLP_drop2.trainloop(trainloader, validloader)\r\n",
        "\r\n",
        "print(\"Train Accuracy %f\" %(my_MLP_drop2.accuracy(trainloader)))\r\n",
        "print(\"Valid Accuracy %f\" %(my_MLP_drop2.accuracy(validloader)))\r\n",
        "print(\"Test Accuracy %f\" %(my_MLP_drop2.accuracy(testloader)))"
      ],
      "execution_count": null,
      "outputs": [
        {
          "output_type": "stream",
          "text": [
            "Training loss after 0 iterations: 0.645263\n",
            "Validation loss after 0 epochs: 0.449442\n",
            "Training loss after 1 iterations: 0.449273\n",
            "Validation loss after 1 epochs: 0.396185\n",
            "Training loss after 2 iterations: 0.407516\n",
            "Validation loss after 2 epochs: 0.380065\n",
            "Training loss after 3 iterations: 0.382659\n",
            "Validation loss after 3 epochs: 0.371919\n",
            "Training loss after 4 iterations: 0.369743\n",
            "Validation loss after 4 epochs: 0.382951\n",
            "Training loss after 5 iterations: 0.353647\n",
            "Validation loss after 5 epochs: 0.376755\n",
            "Training loss after 6 iterations: 0.339694\n",
            "Validation loss after 6 epochs: 0.342973\n",
            "Training loss after 7 iterations: 0.330503\n",
            "Validation loss after 7 epochs: 0.339528\n",
            "Training loss after 8 iterations: 0.319905\n",
            "Validation loss after 8 epochs: 0.343467\n",
            "Training loss after 9 iterations: 0.313495\n",
            "Validation loss after 9 epochs: 0.339523\n",
            "Training loss after 10 iterations: 0.304956\n",
            "Validation loss after 10 epochs: 0.329247\n",
            "Training loss after 11 iterations: 0.296556\n",
            "Validation loss after 11 epochs: 0.329663\n",
            "Training loss after 12 iterations: 0.290355\n",
            "Validation loss after 12 epochs: 0.322438\n",
            "Training loss after 13 iterations: 0.283008\n",
            "Validation loss after 13 epochs: 0.320158\n",
            "Training loss after 14 iterations: 0.278119\n",
            "Validation loss after 14 epochs: 0.338047\n",
            "Training loss after 15 iterations: 0.273236\n",
            "Validation loss after 15 epochs: 0.321468\n",
            "Training loss after 16 iterations: 0.267769\n",
            "Validation loss after 16 epochs: 0.310886\n",
            "Training loss after 17 iterations: 0.265319\n",
            "Validation loss after 17 epochs: 0.331252\n",
            "Training loss after 18 iterations: 0.262301\n",
            "Validation loss after 18 epochs: 0.320106\n",
            "Training loss after 19 iterations: 0.259244\n",
            "Validation loss after 19 epochs: 0.318857\n",
            "Training loss after 20 iterations: 0.247793\n",
            "Validation loss after 20 epochs: 0.326310\n",
            "Training loss after 21 iterations: 0.246061\n",
            "Validation loss after 21 epochs: 0.315633\n",
            "Training loss after 22 iterations: 0.244374\n",
            "Validation loss after 22 epochs: 0.313112\n",
            "Training loss after 23 iterations: 0.236150\n",
            "Validation loss after 23 epochs: 0.323032\n",
            "Training loss after 24 iterations: 0.236006\n",
            "Validation loss after 24 epochs: 0.310491\n",
            "Training loss after 25 iterations: 0.234502\n",
            "Validation loss after 25 epochs: 0.321251\n",
            "Training loss after 26 iterations: 0.230471\n",
            "Validation loss after 26 epochs: 0.318213\n",
            "Training loss after 27 iterations: 0.226907\n",
            "Validation loss after 27 epochs: 0.324381\n",
            "Training loss after 28 iterations: 0.226237\n",
            "Validation loss after 28 epochs: 0.332638\n",
            "Training loss after 29 iterations: 0.222675\n",
            "Validation loss after 29 epochs: 0.329631\n",
            "Accuracy 0.919722\n",
            "Train Accuracy 0.919722\n",
            "Accuracy 0.880386\n",
            "Valid Accuracy 0.880386\n",
            "Accuracy 0.874801\n",
            "Test Accuracy 0.874801\n"
          ],
          "name": "stdout"
        }
      ]
    },
    {
      "cell_type": "code",
      "metadata": {
        "id": "O397T16Tv5ne",
        "colab": {
          "base_uri": "https://localhost:8080/",
          "height": 295
        },
        "outputId": "85ccabba-6d8b-4e93-f9b6-4317932f0262"
      },
      "source": [
        "plt.plot(my_MLP_drop2.loss_during_training)\r\n",
        "plt.plot(my_MLP_drop2.valid_loss_during_training)\r\n",
        "plt.grid()\r\n",
        "plt.xlabel('Iteration')\r\n",
        "plt.ylabel('Loss Functions for p=0.1 Dropout')"
      ],
      "execution_count": null,
      "outputs": [
        {
          "output_type": "execute_result",
          "data": {
            "text/plain": [
              "Text(0, 0.5, 'Loss Functions for p=0.1 Dropout')"
            ]
          },
          "metadata": {
            "tags": []
          },
          "execution_count": 97
        },
        {
          "output_type": "display_data",
          "data": {
            "image/png": "[encoded data removed]",
            "text/plain": [
              "<Figure size 432x288 with 1 Axes>"
            ]
          },
          "metadata": {
            "tags": [],
            "image/png": {
              "width": 387,
              "height": 261
            },
            "needs_background": "light"
          }
        }
      ]
    },
    {
      "cell_type": "markdown",
      "metadata": {
        "id": "J1LGbeWrkwHi"
      },
      "source": [
        "Thus, the optimal number of epochs is 17, in order to avoid overfitting."
      ]
    },
    {
      "cell_type": "code",
      "metadata": {
        "colab": {
          "base_uri": "https://localhost:8080/"
        },
        "id": "mswswhBlh7lP",
        "outputId": "7fe62f13-33ef-45fe-edaf-609fc19fcac8"
      },
      "source": [
        "#Repeat the process for 17 epochs\r\n",
        "\r\n",
        "my_MLP_drop2 = MLPdrop2_extended(dimx=784, hidden1=256,hidden2=128, hidden3=64,nlabels=10,epochs=17,lr=1e-3)\r\n",
        "\r\n",
        "my_MLP_drop2.trainloop(trainloader, validloader)\r\n",
        "\r\n",
        "print(\"Train Accuracy %f\" %(my_MLP_drop2.accuracy(trainloader)))\r\n",
        "print(\"Valid Accuracy %f\" %(my_MLP_drop2.accuracy(validloader)))\r\n",
        "print(\"Test Accuracy %f\" %(my_MLP_drop2.accuracy(testloader)))"
      ],
      "execution_count": null,
      "outputs": [
        {
          "output_type": "stream",
          "text": [
            "Training loss after 0 iterations: 0.587395\n",
            "Validation loss after 0 epochs: 0.436066\n",
            "Training loss after 1 iterations: 0.421515\n",
            "Validation loss after 1 epochs: 0.401655\n",
            "Training loss after 2 iterations: 0.380946\n",
            "Validation loss after 2 epochs: 0.373899\n",
            "Training loss after 3 iterations: 0.355472\n",
            "Validation loss after 3 epochs: 0.369748\n",
            "Training loss after 4 iterations: 0.334847\n",
            "Validation loss after 4 epochs: 0.336808\n",
            "Training loss after 5 iterations: 0.318749\n",
            "Validation loss after 5 epochs: 0.356298\n",
            "Training loss after 6 iterations: 0.303888\n",
            "Validation loss after 6 epochs: 0.341372\n",
            "Training loss after 7 iterations: 0.288494\n",
            "Validation loss after 7 epochs: 0.326893\n",
            "Training loss after 8 iterations: 0.285933\n",
            "Validation loss after 8 epochs: 0.331394\n",
            "Training loss after 9 iterations: 0.274797\n",
            "Validation loss after 9 epochs: 0.321661\n",
            "Training loss after 10 iterations: 0.268293\n",
            "Validation loss after 10 epochs: 0.338525\n",
            "Training loss after 11 iterations: 0.259198\n",
            "Validation loss after 11 epochs: 0.332986\n",
            "Training loss after 12 iterations: 0.254275\n",
            "Validation loss after 12 epochs: 0.318724\n",
            "Training loss after 13 iterations: 0.243654\n",
            "Validation loss after 13 epochs: 0.316802\n",
            "Training loss after 14 iterations: 0.234595\n",
            "Validation loss after 14 epochs: 0.311800\n",
            "Training loss after 15 iterations: 0.232627\n",
            "Validation loss after 15 epochs: 0.347656\n",
            "Training loss after 16 iterations: 0.226273\n",
            "Validation loss after 16 epochs: 0.325140\n",
            "Accuracy 0.921342\n",
            "Train Accuracy 0.921342\n",
            "Accuracy 0.882358\n",
            "Valid Accuracy 0.882358\n",
            "Accuracy 0.879976\n",
            "Test Accuracy 0.879976\n"
          ],
          "name": "stdout"
        }
      ]
    },
    {
      "cell_type": "markdown",
      "metadata": {
        "id": "lETTVHW3k1oM"
      },
      "source": [
        "**For Dropout p = 0.3**"
      ]
    },
    {
      "cell_type": "code",
      "metadata": {
        "id": "MWvs678krzKH"
      },
      "source": [
        "#For Dropout p=0.3\r\n",
        "\r\n",
        "class MLP_drop3(nn.Module):\r\n",
        "    def __init__(self,dimx,hidden1,hidden2,hidden3,nlabels): #Nlabels will be 10 in our case\r\n",
        "        super().__init__()\r\n",
        "        self.output1 = nn.Linear(dimx,hidden1)     \r\n",
        "        self.output2 = nn.Linear(hidden1,hidden2)\r\n",
        "        self.output3 = nn.Linear(hidden2,hidden3)       \r\n",
        "        self.output4 = nn.Linear(hidden3,nlabels)   \r\n",
        "        self.relu = nn.ReLU()       \r\n",
        "        self.logsoftmax = nn.LogSoftmax(dim=1)\r\n",
        "        # Dropout module with 0.2 drop probability\r\n",
        "        self.dropout = nn.Dropout(p=0.3)\r\n",
        "\r\n",
        "    def forward(self, x):\r\n",
        "        # Pass the input tensor through each of our operations\r\n",
        "        x = self.output1(x)\r\n",
        "        x = self.relu(x)\r\n",
        "        x = self.dropout(x)\r\n",
        "        x = self.output2(x)\r\n",
        "        x = self.relu(x)\r\n",
        "        x = self.dropout(x)\r\n",
        "        x = self.output3(x)\r\n",
        "        x = self.relu(x)\r\n",
        "        x = self.dropout(x)\r\n",
        "        x = self.output4(x)\r\n",
        "        x = self.logsoftmax(x)\r\n",
        "        return x\r\n",
        "\r\n"
      ],
      "execution_count": null,
      "outputs": []
    },
    {
      "cell_type": "code",
      "metadata": {
        "id": "W0ihRQOjsBkx"
      },
      "source": [
        "class MLPdrop3_extended(MLP_drop3):\r\n",
        "\r\n",
        "    def __init__(self,dimx,hidden1,hidden2,hidden3,nlabels,epochs=100,lr=0.001):    \r\n",
        "        super().__init__(dimx,hidden1,hidden2,hidden3,nlabels)  #To initialize MLP!     \r\n",
        "        self.lr = lr #Learning Rate   \r\n",
        "        self.optim = optim.Adam(self.parameters(), self.lr)      \r\n",
        "        self.epochs = epochs     \r\n",
        "        self.criterion = nn.NLLLoss()       \r\n",
        "        self.loss_during_training = [] # Store the loss evolution along training\r\n",
        "        # A list to store the loss evolution along validation        \r\n",
        "        self.valid_loss_during_training = [] \r\n",
        "        \r\n",
        "    def valid_loss(self, validloader):\r\n",
        "        if validloader is not None:\r\n",
        "            with torch.no_grad():\r\n",
        "                self.eval()\r\n",
        "                running_loss = 0.\r\n",
        "                for (images, labels) in validloader:\r\n",
        "                    out = self.forward(images.view(images.shape[0], -1))\r\n",
        "                    loss = self.criterion(out, labels)\r\n",
        "                    running_loss += loss.item()\r\n",
        "                self.valid_loss_during_training.append(running_loss/len(validloader))\r\n",
        "        else:\r\n",
        "            raise ValueError('validloader must contain data.')\r\n",
        "\r\n",
        "    # set model back to train mode\r\n",
        "        self.train() \r\n",
        "\r\n",
        "    def trainloop(self,trainloader, validloader = None):       \r\n",
        "        # Adam Loop        \r\n",
        "        for e in range(int(self.epochs)):     \r\n",
        "            running_loss = 0.\r\n",
        "            for images, labels in trainloader:           \r\n",
        "                self.optim.zero_grad()  #TO RESET GRADIENTS!\r\n",
        "                out = self.forward(images.view(images.shape[0], -1))                \r\n",
        "                loss = self.criterion(out, labels)\r\n",
        "                running_loss += loss.item()\r\n",
        "                loss.backward()\r\n",
        "                self.optim.step()       \r\n",
        "            self.valid_loss_during_training.append(running_loss/len(trainloader))\r\n",
        "            if validloader is not None:\r\n",
        "                self.valid_loss(validloader)\r\n",
        "\r\n",
        "            if(e % 1 == 0): # Every epoch               \r\n",
        "                print(\"Training loss after %d iterations: %f\" \r\n",
        "                      %(e,self.loss_during_training[-1]))\r\n",
        "                print(\"Validation loss after %d epochs: %f\" \r\n",
        "                      %(e,self.valid_loss_during_training[-1]))                \r\n",
        "\r\n",
        "    def accuracy(self, loader):     \r\n",
        "        accuracy = 0\r\n",
        "        # Turn off gradients for validation, saves memory and computations\r\n",
        "        with torch.no_grad():\r\n",
        "          for (images, labels) in loader:\r\n",
        "            logprobs = self.forward(images.view(images.shape[0], -1)) # We use a log-softmax, to get log-probabilities\r\n",
        "            top_p, top_class = logprobs.topk(1, dim=1)\r\n",
        "            equals = (top_class == labels.view(images.shape[0], 1))\r\n",
        "            accuracy += torch.mean(equals.type(torch.FloatTensor))     \r\n",
        "        print(\"Accuracy %f\" %(accuracy/len(loader)))\r\n",
        "        return accuracy/len(loader)         "
      ],
      "execution_count": null,
      "outputs": []
    },
    {
      "cell_type": "code",
      "metadata": {
        "colab": {
          "base_uri": "https://localhost:8080/"
        },
        "id": "MLaXYFk3sIoA",
        "outputId": "6eb7e2cf-b4b5-4f0e-876e-1adf0ea73590"
      },
      "source": [
        "my_MLP_drop3 = MLPdrop3_extended(dimx=784, hidden1=256,hidden2=128, hidden3=64,nlabels=10,epochs=30,lr=1e-3)\r\n",
        "\r\n",
        "my_MLP_drop3.trainloop(trainloader, validloader)\r\n",
        "\r\n",
        "print(\"Train Accuracy %f\" %(my_MLP_drop3.accuracy(trainloader)))\r\n",
        "print(\"Valid Accuracy %f\" %(my_MLP_drop3.accuracy(validloader)))\r\n",
        "print(\"Test Accuracy %f\" %(my_MLP_drop3.accuracy(testloader)))"
      ],
      "execution_count": null,
      "outputs": [
        {
          "output_type": "stream",
          "text": [
            "Training loss after 0 iterations: 0.572939\n",
            "Validation loss after 0 epochs: 0.572939\n",
            "Training loss after 1 iterations: 0.455950\n",
            "Validation loss after 1 epochs: 0.455950\n",
            "Training loss after 2 iterations: 0.433719\n",
            "Validation loss after 2 epochs: 0.433719\n",
            "Training loss after 3 iterations: 0.389722\n",
            "Validation loss after 3 epochs: 0.389722\n",
            "Training loss after 4 iterations: 0.400770\n",
            "Validation loss after 4 epochs: 0.400770\n",
            "Training loss after 5 iterations: 0.351201\n",
            "Validation loss after 5 epochs: 0.351201\n",
            "Training loss after 6 iterations: 0.363704\n",
            "Validation loss after 6 epochs: 0.363704\n",
            "Training loss after 7 iterations: 0.356910\n",
            "Validation loss after 7 epochs: 0.356910\n",
            "Training loss after 8 iterations: 0.330331\n",
            "Validation loss after 8 epochs: 0.330331\n",
            "Training loss after 9 iterations: 0.325514\n",
            "Validation loss after 9 epochs: 0.325514\n",
            "Training loss after 10 iterations: 0.305445\n",
            "Validation loss after 10 epochs: 0.305445\n",
            "Training loss after 11 iterations: 0.285786\n",
            "Validation loss after 11 epochs: 0.285786\n",
            "Training loss after 12 iterations: 0.275274\n",
            "Validation loss after 12 epochs: 0.275274\n",
            "Training loss after 13 iterations: 0.264082\n",
            "Validation loss after 13 epochs: 0.264082\n",
            "Training loss after 14 iterations: 0.267854\n",
            "Validation loss after 14 epochs: 0.267854\n",
            "Training loss after 15 iterations: 0.258256\n",
            "Validation loss after 15 epochs: 0.258256\n",
            "Training loss after 16 iterations: 0.256393\n",
            "Validation loss after 16 epochs: 0.256393\n",
            "Training loss after 17 iterations: 0.259915\n",
            "Validation loss after 17 epochs: 0.259915\n",
            "Training loss after 18 iterations: 0.248633\n",
            "Validation loss after 18 epochs: 0.248633\n",
            "Training loss after 19 iterations: 0.245690\n",
            "Validation loss after 19 epochs: 0.245690\n",
            "Training loss after 20 iterations: 0.226937\n",
            "Validation loss after 20 epochs: 0.226937\n",
            "Training loss after 21 iterations: 0.236749\n",
            "Validation loss after 21 epochs: 0.236749\n",
            "Training loss after 22 iterations: 0.237729\n",
            "Validation loss after 22 epochs: 0.237729\n",
            "Training loss after 23 iterations: 0.205286\n",
            "Validation loss after 23 epochs: 0.205286\n",
            "Training loss after 24 iterations: 0.221422\n",
            "Validation loss after 24 epochs: 0.221422\n",
            "Training loss after 25 iterations: 0.235955\n",
            "Validation loss after 25 epochs: 0.235955\n",
            "Training loss after 26 iterations: 0.196420\n",
            "Validation loss after 26 epochs: 0.196420\n",
            "Training loss after 27 iterations: 0.204458\n",
            "Validation loss after 27 epochs: 0.204458\n",
            "Training loss after 28 iterations: 0.193003\n",
            "Validation loss after 28 epochs: 0.193003\n",
            "Training loss after 29 iterations: 0.204996\n",
            "Validation loss after 29 epochs: 0.204996\n",
            "Accuracy 0.852628\n",
            "Train Accuracy 0.852628\n",
            "Accuracy 0.900753\n",
            "Valid Accuracy 0.900753\n",
            "Accuracy 0.844745\n",
            "Test Accuracy 0.844745\n"
          ],
          "name": "stdout"
        }
      ]
    },
    {
      "cell_type": "code",
      "metadata": {
        "id": "2aV-V1POv_Ur",
        "colab": {
          "base_uri": "https://localhost:8080/",
          "height": 295
        },
        "outputId": "8ff89c5a-e0ce-46c1-fb37-b492aaa73cb1"
      },
      "source": [
        "plt.plot(my_MLP_drop3.loss_during_training)\r\n",
        "plt.plot(my_MLP_drop3.valid_loss_during_training)\r\n",
        "plt.grid()\r\n",
        "plt.xlabel('Iteration')\r\n",
        "plt.ylabel('Loss Functions for p=0.3 Dropout')"
      ],
      "execution_count": null,
      "outputs": [
        {
          "output_type": "execute_result",
          "data": {
            "text/plain": [
              "Text(0, 0.5, 'Loss Functions for p=0.3 Dropout')"
            ]
          },
          "metadata": {
            "tags": []
          },
          "execution_count": 100
        },
        {
          "output_type": "display_data",
          "data": {
            "image/png": "[encoded data removed]",
            "text/plain": [
              "<Figure size 432x288 with 1 Axes>"
            ]
          },
          "metadata": {
            "tags": [],
            "image/png": {
              "width": 385,
              "height": 261
            },
            "needs_background": "light"
          }
        }
      ]
    },
    {
      "cell_type": "markdown",
      "metadata": {
        "id": "9-_Fj6P4lHLy"
      },
      "source": [
        "From this plot, it can be infered that both losses are the same, and have a decreasing trend, therefore, is does not make sense to use early stopping"
      ]
    },
    {
      "cell_type": "markdown",
      "metadata": {
        "id": "CsC1rUaNtI2j"
      },
      "source": [
        "As can be seen, the best results are given for p = 0.2, while for p = 0.3 and p = 0.1, the results are fairly similar, with quite high accuracies greater than 84% in every case. However, in the case for p = 0.1, the validation accuracy is higher than the train one, and this fact does not happen with p = 0.3 or p = 0.2"
      ]
    }
  ]
}
